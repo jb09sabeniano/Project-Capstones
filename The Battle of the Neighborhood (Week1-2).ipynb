{
 "cells": [
  {
   "cell_type": "markdown",
   "metadata": {},
   "source": [
    "### Background"
   ]
  },
  {
   "cell_type": "markdown",
   "metadata": {},
   "source": [
    "Restaurants are a notoriously difficult business to own or operate. Not only is it a relatively capital and employee-intensive business, restaurants are also highly regulated, low margin and in most cases have a plethora of competition to deal with. There are more dining establishments and more diners now than during any other time in history; the National Restaurant Association reports over 1 million restaurant locations in the U.S. alone, a particular boon considering more than half the American population visits at least one of them each week. To fill a niche and remain relevant, prospective, as well as established, restaurants have to hedge their bets with well-rounded and well-directed dataset. Data science provides valuable insights regarding market trends and evolving consumer lifestyles so that restaurateurs can better address and meet public demand."
   ]
  },
  {
   "cell_type": "markdown",
   "metadata": {},
   "source": [
    "### Business Problem\n",
    "\n",
    "No single restaurant is ever going to appeal to everyone. Some people like quiet, intimate settings; others prefer boisterous ones. Some people want to bring their kids along; others want to dine alone. The preferences are as varied as the possible offerings, with specific generational cohorts preferring one thing, “people who like Indian food” preferring another and everyone else liking a million other things in between.My client, a successful Filipino restaurant chain in Philippines is looking to expand operation into North America through New York (NYC)."
   ]
  },
  {
   "cell_type": "markdown",
   "metadata": {},
   "source": [
    "### Problem Statement\n",
    "\n",
    "To locate and recommend to the client which neighbourhood in New York City will be best choice to start a restaurant."
   ]
  },
  {
   "cell_type": "markdown",
   "metadata": {},
   "source": [
    "### Data Requirements and Sources\n",
    "\n",
    "Before opening a new restaurant in NYC, the data science team will provide data and insight to:-\n",
    "\n",
    "Part 1: NYC Population & Demographic characteristics\n",
    "Data source:https://en.wikipedia.org/wiki/New_York_City ; https://en.wikipedia.org/wiki/Demographics_of_New_York_City. Web scraping techniques was used to get NYC's population density and demographics data from Wikipedia. Preliminary finding indicates that Queens being the second most populous urban area in New York City (NYC), behind Brooklyn; and the most ethnically diverse urban area in NYC with the highest Asian ethnic minority population. Click here to view Python's script.\n",
    "\n",
    "Part 2: Who are the competitors in that location?\n",
    "Data source:https://cocl.us/new_york_dataset and Foursquare API. These dataset was used to explore various neighbourhoods and each Indian restaurants venues in the neighbourhood. Click here to view Python's script."
   ]
  },
  {
   "cell_type": "markdown",
   "metadata": {},
   "source": [
    "### New York city population and demographic data"
   ]
  },
  {
   "cell_type": "code",
   "execution_count": 3,
   "metadata": {},
   "outputs": [
    {
     "name": "stdout",
     "output_type": "stream",
     "text": [
      "Libraries imported.\n"
     ]
    }
   ],
   "source": [
    "#import and install necessary libraries \n",
    "import pandas as pd\n",
    "import numpy as np\n",
    "\n",
    "pd.set_option('display.max_columns', None)\n",
    "pd.set_option('display.max_rows', None)\n",
    "\n",
    "import requests\n",
    "from bs4 import BeautifulSoup\n",
    "from geopy.geocoders import Nominatim # convert an address into latitude and longitude values\n",
    "#!conda install -c conda-forge folium\n",
    "\n",
    "import os\n",
    "import folium # map rendering library\n",
    "# Matplotlib and associated plotting modules\n",
    "\n",
    "import matplotlib.pyplot as plt\n",
    "import matplotlib.cm as cm\n",
    "import matplotlib.colors as colors\n",
    "import matplotlib as mp\n",
    "import re\n",
    "import csv\n",
    "%matplotlib inline\n",
    "\n",
    "\n",
    "print('Libraries imported.')"
   ]
  },
  {
   "cell_type": "code",
   "execution_count": 5,
   "metadata": {},
   "outputs": [],
   "source": [
    "#web scrapping data table from wikipedia using bs4\n",
    "response_obj = requests.get('https://en.wikipedia.org/wiki/New_York_City').text\n",
    "soup = BeautifulSoup(response_obj,'lxml')\n",
    "Neighborhoods_NYC_Table = soup.find('table', {'class':'wikitable sortable'})"
   ]
  },
  {
   "cell_type": "code",
   "execution_count": 10,
   "metadata": {},
   "outputs": [
    {
     "name": "stdout",
     "output_type": "stream",
     "text": [
      "[{'borough': 'The Bronx', 'county': 'Bronx', 'population': 1432132.0, 'gdp_billions': 42.695, 'gdp_per_capita': 29200.0, 'land_sqm': 42.1, 'land_sqkm': 109.04, 'persons_sqm': 34653.0, 'persons_sqkm': 13231.0}, {'borough': 'Brooklyn', 'county': 'Kings', 'population': 2582830.0, 'gdp_billions': 91.559, 'gdp_per_capita': 34600.0, 'land_sqm': 70.82, 'land_sqkm': 183.42, 'persons_sqm': 37137.0, 'persons_sqkm': 14649.0}, {'borough': 'Manhattan', 'county': 'New York', 'population': 1628701.0, 'gdp_billions': 600.244, 'gdp_per_capita': 360900.0, 'land_sqm': 22.83, 'land_sqkm': 59.13, 'persons_sqm': 72033.0, 'persons_sqkm': 27826.0}, {'borough': 'Queens', 'county': 'Queens', 'population': 2278906.0, 'gdp_billions': 93.31, 'gdp_per_capita': 39600.0, 'land_sqm': 108.53, 'land_sqkm': 281.09, 'persons_sqm': 21460.0, 'persons_sqkm': 8354.0}, {'borough': 'Staten Island', 'county': 'Richmond', 'population': 476179.0, 'gdp_billions': 14.514, 'gdp_per_capita': 30300.0, 'land_sqm': 58.37, 'land_sqkm': 151.18, 'persons_sqm': 8112.0, 'persons_sqkm': 3132.0}]\n"
     ]
    },
    {
     "data": {
      "text/html": [
       "<div>\n",
       "<style scoped>\n",
       "    .dataframe tbody tr th:only-of-type {\n",
       "        vertical-align: middle;\n",
       "    }\n",
       "\n",
       "    .dataframe tbody tr th {\n",
       "        vertical-align: top;\n",
       "    }\n",
       "\n",
       "    .dataframe thead th {\n",
       "        text-align: right;\n",
       "    }\n",
       "</style>\n",
       "<table border=\"1\" class=\"dataframe\">\n",
       "  <thead>\n",
       "    <tr style=\"text-align: right;\">\n",
       "      <th></th>\n",
       "      <th>borough</th>\n",
       "      <th>county</th>\n",
       "      <th>population</th>\n",
       "      <th>gdp_per_capita</th>\n",
       "      <th>persons_sqkm</th>\n",
       "    </tr>\n",
       "  </thead>\n",
       "  <tbody>\n",
       "    <tr>\n",
       "      <th>0</th>\n",
       "      <td>The Bronx</td>\n",
       "      <td>Bronx</td>\n",
       "      <td>1432132.0</td>\n",
       "      <td>29200.0</td>\n",
       "      <td>13231.0</td>\n",
       "    </tr>\n",
       "    <tr>\n",
       "      <th>1</th>\n",
       "      <td>Brooklyn</td>\n",
       "      <td>Kings</td>\n",
       "      <td>2582830.0</td>\n",
       "      <td>34600.0</td>\n",
       "      <td>14649.0</td>\n",
       "    </tr>\n",
       "    <tr>\n",
       "      <th>2</th>\n",
       "      <td>Manhattan</td>\n",
       "      <td>New York</td>\n",
       "      <td>1628701.0</td>\n",
       "      <td>360900.0</td>\n",
       "      <td>27826.0</td>\n",
       "    </tr>\n",
       "    <tr>\n",
       "      <th>3</th>\n",
       "      <td>Queens</td>\n",
       "      <td>Queens</td>\n",
       "      <td>2278906.0</td>\n",
       "      <td>39600.0</td>\n",
       "      <td>8354.0</td>\n",
       "    </tr>\n",
       "    <tr>\n",
       "      <th>4</th>\n",
       "      <td>Staten Island</td>\n",
       "      <td>Richmond</td>\n",
       "      <td>476179.0</td>\n",
       "      <td>30300.0</td>\n",
       "      <td>3132.0</td>\n",
       "    </tr>\n",
       "  </tbody>\n",
       "</table>\n",
       "</div>"
      ],
      "text/plain": [
       "         borough    county  population  gdp_per_capita  persons_sqkm\n",
       "0      The Bronx     Bronx   1432132.0         29200.0       13231.0\n",
       "1       Brooklyn     Kings   2582830.0         34600.0       14649.0\n",
       "2      Manhattan  New York   1628701.0        360900.0       27826.0\n",
       "3         Queens    Queens   2278906.0         39600.0        8354.0\n",
       "4  Staten Island  Richmond    476179.0         30300.0        3132.0"
      ]
     },
     "execution_count": 10,
     "metadata": {},
     "output_type": "execute_result"
    }
   ],
   "source": [
    "#checking website table from wikipedia\n",
    "rows = Neighborhoods_NYC_Table.select(\"tbody > tr\")[3:8]\n",
    "\n",
    "boroughs = []\n",
    "for row in rows:\n",
    "    borough = {}\n",
    "    tds = row.select('td')\n",
    "    borough[\"borough\"] = tds[0].text.strip()\n",
    "    borough[\"county\"] = tds[1].text.strip()\n",
    "    borough[\"population\"] = float(tds[2].text.strip().replace(\",\",\"\"))\n",
    "    borough[\"gdp_billions\"] = float(tds[3].text.strip().replace(\",\",\"\"))\n",
    "    borough[\"gdp_per_capita\"] = float(tds[4].text.strip().replace(\",\",\"\"))\n",
    "    borough[\"land_sqm\"] = float(tds[5].text.strip().replace(\",\",\"\"))\n",
    "    borough[\"land_sqkm\"] = float(tds[6].text.strip().replace(\",\",\"\"))\n",
    "    borough[\"persons_sqm\"] = float(tds[7].text.strip().replace(\",\",\"\"))\n",
    "    borough[\"persons_sqkm\"] = float(tds[8].text.strip().replace(\",\",\"\"))\n",
    "    \n",
    "    boroughs.append(borough)\n",
    "\n",
    "print(boroughs)\n",
    "\n",
    "df = pd.DataFrame(boroughs, columns=[\"borough\",\"county\", \"population\", \"gdp_per_capita\", \"persons_sqkm\"]) \n",
    "df"
   ]
  },
  {
   "cell_type": "code",
   "execution_count": 12,
   "metadata": {},
   "outputs": [
    {
     "name": "stdout",
     "output_type": "stream",
     "text": [
      "[{'jurisdiction': 'Queens', 'population_census': '2,229,379', '%_white': 44.1, '%_black_or_african_amercian': 20.0, '%_Asian': 17.6, '%_other': 12.3, '%_mixed_race': 6.1, '%_hispanic_latino_of_other_race': 25.0, '%_catholic': 37.0, '%_jewish': 5.0}, {'jurisdiction': 'Manhattan', 'population_census': '1,537,195', '%_white': 54.4, '%_black_or_african_amercian': 17.4, '%_Asian': 9.4, '%_other': 14.7, '%_mixed_race': 4.1, '%_hispanic_latino_of_other_race': 27.2, '%_catholic': 11.0, '%_jewish': 9.0}, {'jurisdiction': 'Bronx', 'population_census': '1,332,650', '%_white': 29.9, '%_black_or_african_amercian': 35.6, '%_Asian': 3.0, '%_other': 25.7, '%_mixed_race': 5.8, '%_hispanic_latino_of_other_race': 48.4, '%_catholic': 14.0, '%_jewish': 5.0}, {'jurisdiction': 'Staten Island', 'population_census': '443,728', '%_white': 77.6, '%_black_or_african_amercian': 9.7, '%_Asian': 5.7, '%_other': 4.3, '%_mixed_race': 2.7, '%_hispanic_latino_of_other_race': 12.1, '%_catholic': 11.0, '%_jewish': 5.0}, {'jurisdiction': 'NYC Total', 'population_census': '8,008,278', '%_white': 44.7, '%_black_or_african_amercian': 26.6, '%_Asian': 9.8, '%_other': 14.0, '%_mixed_race': 4.9, '%_hispanic_latino_of_other_race': 27.0, '%_catholic': 17.0, '%_jewish': 6.0}]\n"
     ]
    },
    {
     "data": {
      "text/html": [
       "<div>\n",
       "<style scoped>\n",
       "    .dataframe tbody tr th:only-of-type {\n",
       "        vertical-align: middle;\n",
       "    }\n",
       "\n",
       "    .dataframe tbody tr th {\n",
       "        vertical-align: top;\n",
       "    }\n",
       "\n",
       "    .dataframe thead th {\n",
       "        text-align: right;\n",
       "    }\n",
       "</style>\n",
       "<table border=\"1\" class=\"dataframe\">\n",
       "  <thead>\n",
       "    <tr style=\"text-align: right;\">\n",
       "      <th></th>\n",
       "      <th>jurisdiction</th>\n",
       "      <th>%_white</th>\n",
       "      <th>%_black_or_african_amercian</th>\n",
       "      <th>%_Asian</th>\n",
       "      <th>%_other</th>\n",
       "      <th>%_mixed_race</th>\n",
       "      <th>%_hispanic_latino_of_other_race</th>\n",
       "    </tr>\n",
       "  </thead>\n",
       "  <tbody>\n",
       "    <tr>\n",
       "      <th>0</th>\n",
       "      <td>Queens</td>\n",
       "      <td>44.1</td>\n",
       "      <td>20.0</td>\n",
       "      <td>17.6</td>\n",
       "      <td>12.3</td>\n",
       "      <td>6.1</td>\n",
       "      <td>25.0</td>\n",
       "    </tr>\n",
       "    <tr>\n",
       "      <th>1</th>\n",
       "      <td>Manhattan</td>\n",
       "      <td>54.4</td>\n",
       "      <td>17.4</td>\n",
       "      <td>9.4</td>\n",
       "      <td>14.7</td>\n",
       "      <td>4.1</td>\n",
       "      <td>27.2</td>\n",
       "    </tr>\n",
       "    <tr>\n",
       "      <th>2</th>\n",
       "      <td>Bronx</td>\n",
       "      <td>29.9</td>\n",
       "      <td>35.6</td>\n",
       "      <td>3.0</td>\n",
       "      <td>25.7</td>\n",
       "      <td>5.8</td>\n",
       "      <td>48.4</td>\n",
       "    </tr>\n",
       "    <tr>\n",
       "      <th>3</th>\n",
       "      <td>Staten Island</td>\n",
       "      <td>77.6</td>\n",
       "      <td>9.7</td>\n",
       "      <td>5.7</td>\n",
       "      <td>4.3</td>\n",
       "      <td>2.7</td>\n",
       "      <td>12.1</td>\n",
       "    </tr>\n",
       "    <tr>\n",
       "      <th>4</th>\n",
       "      <td>NYC Total</td>\n",
       "      <td>44.7</td>\n",
       "      <td>26.6</td>\n",
       "      <td>9.8</td>\n",
       "      <td>14.0</td>\n",
       "      <td>4.9</td>\n",
       "      <td>27.0</td>\n",
       "    </tr>\n",
       "  </tbody>\n",
       "</table>\n",
       "</div>"
      ],
      "text/plain": [
       "    jurisdiction  %_white  %_black_or_african_amercian  %_Asian  %_other  \\\n",
       "0         Queens     44.1                         20.0     17.6     12.3   \n",
       "1      Manhattan     54.4                         17.4      9.4     14.7   \n",
       "2          Bronx     29.9                         35.6      3.0     25.7   \n",
       "3  Staten Island     77.6                          9.7      5.7      4.3   \n",
       "4      NYC Total     44.7                         26.6      9.8     14.0   \n",
       "\n",
       "   %_mixed_race  %_hispanic_latino_of_other_race  \n",
       "0           6.1                             25.0  \n",
       "1           4.1                             27.2  \n",
       "2           5.8                             48.4  \n",
       "3           2.7                             12.1  \n",
       "4           4.9                             27.0  "
      ]
     },
     "execution_count": 12,
     "metadata": {},
     "output_type": "execute_result"
    }
   ],
   "source": [
    "#Webscrapping jurisdiction table from wikipedia\n",
    "response_obj = requests.get('https://en.wikipedia.org/wiki/Demographics_of_New_York_City').text\n",
    "soup = BeautifulSoup(response_obj,'lxml')\n",
    "Population_Census_Table = soup.select_one('.wikitable:nth-of-type(5)') #use css selector to target correct table.\n",
    "\n",
    "jurisdictions = []\n",
    "rows = Population_Census_Table.select(\"tbody > tr\")[3:8]\n",
    "for row in rows:\n",
    "    jurisdiction = {}\n",
    "    tds = row.select('td')\n",
    "    jurisdiction[\"jurisdiction\"] = tds[0].text.strip()\n",
    "    jurisdiction[\"population_census\"] = tds[1].text.strip()\n",
    "    jurisdiction[\"%_white\"] = float(tds[2].text.strip().replace(\",\",\"\"))\n",
    "    jurisdiction[\"%_black_or_african_amercian\"] = float(tds[3].text.strip().replace(\",\",\"\"))\n",
    "    jurisdiction[\"%_Asian\"] = float(tds[4].text.strip().replace(\",\",\"\"))\n",
    "    jurisdiction[\"%_other\"] = float(tds[5].text.strip().replace(\",\",\"\"))\n",
    "    jurisdiction[\"%_mixed_race\"] = float(tds[6].text.strip().replace(\",\",\"\"))\n",
    "    jurisdiction[\"%_hispanic_latino_of_other_race\"] = float(tds[7].text.strip().replace(\",\",\"\"))\n",
    "    jurisdiction[\"%_catholic\"] = float(tds[10].text.strip().replace(\",\",\"\"))\n",
    "    jurisdiction[\"%_jewish\"] = float(tds[12].text.strip().replace(\",\",\"\"))\n",
    "    jurisdictions.append(jurisdiction)\n",
    "\n",
    "print(jurisdictions)\n",
    "\n",
    "df = pd.DataFrame(jurisdictions, columns=[\"jurisdiction\",\"%_white\", \"%_black_or_african_amercian\", \"%_Asian\", \"%_other\", \"%_mixed_race\", \"%_hispanic_latino_of_other_race\"])\n",
    "df.head()"
   ]
  },
  {
   "cell_type": "markdown",
   "metadata": {},
   "source": [
    "### Initial Findings and Observations\n",
    "\n",
    "1. Brooklyn is the most populous Borough but has the lowest gdp_per_capita among the Boroughs.\n",
    "2. Queen is the second most populous Borough and has higher gdp_per_capita than Brooklyn but smaller population density.\n",
    "Highest interms of asian ethnic minority population.\n",
    "3.Manhattan is the second asian ethnic minority population, first in gdp_per_capita and population density.\n",
    "High person per km means people are living in a high rise building like appartments, hotels and condiminiums.\n",
    "\n",
    "### Initial Hypothesis from Demographic Data of NYC\n",
    "\n",
    "Manhattan could be the best place to start a Filipino Restaurant given that;\n",
    "\n",
    "1.Good Economy (highest gdp_per_capita)\n",
    "2.High Population density (person per km can be relate to people who are living in a high rise building)\n",
    "3.Second in Asian ethnic minority population."
   ]
  },
  {
   "cell_type": "markdown",
   "metadata": {},
   "source": [
    "### Neighborhoods using FourSquare API & New York City data that contains list Boroughs, Neighbourhoods along with their latitude and longitude"
   ]
  },
  {
   "cell_type": "code",
   "execution_count": 29,
   "metadata": {},
   "outputs": [],
   "source": [
    "#define a function to interact with Foursquare get top 100 venues within a radius of 1000 metres for a given latitude and longitude.\n",
    "def geo_location(address):\n",
    "    # get geo location of address\n",
    "    geolocator = Nominatim(user_agent=\"ny_explorer\")\n",
    "    locatidn = geolocator.geocode(address)\n",
    "    latitude = location.latitude\n",
    "    longitude = location.longitude\n",
    "    return latitude,longitude"
   ]
  },
  {
   "cell_type": "code",
   "execution_count": 30,
   "metadata": {},
   "outputs": [],
   "source": [
    "def get_venues(lat,lng):\n",
    "    \n",
    "    #set variables\n",
    "    radius=1000\n",
    "    LIMIT=100\n",
    "    CLIENT_ID = '4XU4VO2GVGVJ5VNHGS0Z5OVAE50ZGSXSGBZUESNVRMKX03MN'# Foursquare ID, note there is a daily call quota limit \n",
    "    CLIENT_SECRET ='4ENZ0UWWYV2Z4B4PT2412GM0IERFGCPEFCRAQNE1Z3U2HPCC' # Foursquare Secret, note there is a daily call quota it\n",
    "    VERSION = '20180605' # Foursquare API version\n",
    "    \n",
    "    #url to fetch data from foursquare api\n",
    "    url = 'https://api.foursquare.com/v2/venues/explore?&client_id={}&client_secret={}&v={}&ll={},{}&radius={}&limit={}'.format(\n",
    "            CLIENT_ID, \n",
    "            CLIENT_SECRET, \n",
    "            VERSION, \n",
    "            lat, \n",
    "            lng, \n",
    "            radius, \n",
    "            LIMIT)\n",
    "    \n",
    "    # get all the data\n",
    "    results = requests.get(url).json()\n",
    "    venue_data=results[\"response\"]['groups'][0]['items']\n",
    "    venue_details=[]\n",
    "    for row in venue_data:\n",
    "        try:\n",
    "            venue_id=row['venue']['id']\n",
    "            venue_name=row['venue']['name']\n",
    "            venue_category=row['venue']['categories'][0]['name']\n",
    "            venue_details.append([venue_id,venue_name,venue_category])\n",
    "        except KeyError:\n",
    "            pass\n",
    "        \n",
    "    column_names=['ID','Name','Category']\n",
    "    df = pd.DataFrame(venue_details,columns=column_names)\n",
    "    return df"
   ]
  },
  {
   "cell_type": "markdown",
   "metadata": {},
   "source": [
    "Define a function to get venue details like like count , rating , tip counts for a given venue id. to be used for ranking."
   ]
  },
  {
   "cell_type": "code",
   "execution_count": 46,
   "metadata": {},
   "outputs": [],
   "source": [
    "def get_venue_details(venue_id):\n",
    "        \n",
    "    CLIENT_ID = 'FM32E0UU4KR1WU4VZIG1F5G1J2XFMKEGNF52UGPTSQ1J1CF1'# Foursquare ID, note there is a daily call quota limit \n",
    "    CLIENT_SECRET ='R5SUZ4FBHNDVUMHP15ZKFIKI5VCQBLGPYSFGZY2LYQXMILX2' # Foursquare Secret, note there is a daily call quota it it\n",
    "    VERSION = '20180605' # Foursquare API version\n",
    "    \n",
    "    #url to fetch data from foursquare api\n",
    "    url = 'https://api.foursquare.com/v2/venues/{}?&client_id={}&client_secret={}&v={}'.format(\n",
    "            venue_id,\n",
    "            CLIENT_ID, \n",
    "            CLIENT_SECRET, \n",
    "            VERSION)\n",
    "    \n",
    "    # get all the data\n",
    "    results = requests.get(url).json()\n",
    "    venue_data=results['response']['venue']\n",
    "    venue_details=[]\n",
    "    try:\n",
    "        venue_id=venue_data['id']\n",
    "        venue_name=venue_data['name']\n",
    "        venue_likes=venue_data['likes']['count']\n",
    "        venue_rating=venue_data['rating']\n",
    "        venue_tips=venue_data['tips']['count']\n",
    "        venue_details.append([venue_id,venue_name,venue_likes,venue_rating,venue_tips])\n",
    "    except KeyError:\n",
    "        pass\n",
    "        \n",
    "    column_names=['ID','Name','Likes','Rating','Tips']\n",
    "    df = pd.DataFrame(venue_details,columns=column_names)\n",
    "    return df"
   ]
  },
  {
   "cell_type": "code",
   "execution_count": 31,
   "metadata": {},
   "outputs": [],
   "source": [
    "def get_new_york_data():\n",
    "    url='https://cocl.us/new_york_dataset'\n",
    "    resp=requests.get(url).json()\n",
    "    # all data is present in features label\n",
    "    features=resp['features']\n",
    "    \n",
    "    # define the dataframe columns\n",
    "    column_names = ['Borough', 'Neighborhood', 'Latitude', 'Longitude'] \n",
    "    # instantiate the dataframe\n",
    "    new_york_data = pd.DataFrame(columns=column_names)\n",
    "    \n",
    "    for data in features:\n",
    "        borough = data['properties']['borough'] \n",
    "        neighborhood_name = data['properties']['name']\n",
    "        \n",
    "        neighborhood_latlon = data['geometry']['coordinates']\n",
    "        neighborhood_lat = neighborhood_latlon[1]\n",
    "        neighborhood_lon = neighborhood_latlon[0]\n",
    "    \n",
    "        new_york_data = new_york_data.append({'Borough': borough,\n",
    "                                          'Neighborhood': neighborhood_name,\n",
    "                                          'Latitude': neighborhood_lat,\n",
    "                                          'Longitude': neighborhood_lon}, ignore_index=True)\n",
    "    \n",
    "    return new_york_data"
   ]
  },
  {
   "cell_type": "code",
   "execution_count": 32,
   "metadata": {},
   "outputs": [],
   "source": [
    "# get new york data\n",
    "new_york_data=get_new_york_data()"
   ]
  },
  {
   "cell_type": "code",
   "execution_count": 33,
   "metadata": {},
   "outputs": [
    {
     "data": {
      "text/html": [
       "<div>\n",
       "<style scoped>\n",
       "    .dataframe tbody tr th:only-of-type {\n",
       "        vertical-align: middle;\n",
       "    }\n",
       "\n",
       "    .dataframe tbody tr th {\n",
       "        vertical-align: top;\n",
       "    }\n",
       "\n",
       "    .dataframe thead th {\n",
       "        text-align: right;\n",
       "    }\n",
       "</style>\n",
       "<table border=\"1\" class=\"dataframe\">\n",
       "  <thead>\n",
       "    <tr style=\"text-align: right;\">\n",
       "      <th></th>\n",
       "      <th>Borough</th>\n",
       "      <th>Neighborhood</th>\n",
       "      <th>Latitude</th>\n",
       "      <th>Longitude</th>\n",
       "    </tr>\n",
       "  </thead>\n",
       "  <tbody>\n",
       "    <tr>\n",
       "      <th>0</th>\n",
       "      <td>Bronx</td>\n",
       "      <td>Wakefield</td>\n",
       "      <td>40.894705</td>\n",
       "      <td>-73.847201</td>\n",
       "    </tr>\n",
       "    <tr>\n",
       "      <th>1</th>\n",
       "      <td>Bronx</td>\n",
       "      <td>Co-op City</td>\n",
       "      <td>40.874294</td>\n",
       "      <td>-73.829939</td>\n",
       "    </tr>\n",
       "    <tr>\n",
       "      <th>2</th>\n",
       "      <td>Bronx</td>\n",
       "      <td>Eastchester</td>\n",
       "      <td>40.887556</td>\n",
       "      <td>-73.827806</td>\n",
       "    </tr>\n",
       "    <tr>\n",
       "      <th>3</th>\n",
       "      <td>Bronx</td>\n",
       "      <td>Fieldston</td>\n",
       "      <td>40.895437</td>\n",
       "      <td>-73.905643</td>\n",
       "    </tr>\n",
       "    <tr>\n",
       "      <th>4</th>\n",
       "      <td>Bronx</td>\n",
       "      <td>Riverdale</td>\n",
       "      <td>40.890834</td>\n",
       "      <td>-73.912585</td>\n",
       "    </tr>\n",
       "  </tbody>\n",
       "</table>\n",
       "</div>"
      ],
      "text/plain": [
       "  Borough Neighborhood   Latitude  Longitude\n",
       "0   Bronx    Wakefield  40.894705 -73.847201\n",
       "1   Bronx   Co-op City  40.874294 -73.829939\n",
       "2   Bronx  Eastchester  40.887556 -73.827806\n",
       "3   Bronx    Fieldston  40.895437 -73.905643\n",
       "4   Bronx    Riverdale  40.890834 -73.912585"
      ]
     },
     "execution_count": 33,
     "metadata": {},
     "output_type": "execute_result"
    }
   ],
   "source": [
    "new_york_data.head()"
   ]
  },
  {
   "cell_type": "code",
   "execution_count": 34,
   "metadata": {},
   "outputs": [
    {
     "data": {
      "text/plain": [
       "(306, 4)"
      ]
     },
     "execution_count": 34,
     "metadata": {},
     "output_type": "execute_result"
    }
   ],
   "source": [
    "new_york_data.shape"
   ]
  },
  {
   "cell_type": "markdown",
   "metadata": {},
   "source": [
    "There is a total of 306 Neighborhoods in New York City."
   ]
  },
  {
   "cell_type": "code",
   "execution_count": 35,
   "metadata": {},
   "outputs": [
    {
     "data": {
      "image/png": "[encoded data removed]",
      "text/plain": [
       "<Figure size 720x400 with 1 Axes>"
      ]
     },
     "metadata": {},
     "output_type": "display_data"
    }
   ],
   "source": [
    "from matplotlib import pyplot as plt\n",
    "plt.style.use('ggplot')\n",
    "\n",
    "plt.figure(figsize=(9,5), dpi = 80)\n",
    "# title\n",
    "plt.title('Number of Neighbourhood in NYC by Borough')\n",
    "#On x-axis\n",
    "plt.xlabel('Borough', fontsize = 15)\n",
    "#On y-axis\n",
    "plt.ylabel('No.of Neighborhood', fontsize=15)\n",
    "#giving a bar plot\n",
    "new_york_data.groupby('Borough')['Neighborhood'].count().plot(kind='bar')\n",
    "#legend\n",
    "plt.legend()\n",
    "plt.show()"
   ]
  },
  {
   "cell_type": "markdown",
   "metadata": {},
   "source": [
    "Queens is the most densely populated borough in New York City with 80 neighborhoods"
   ]
  },
  {
   "cell_type": "code",
   "execution_count": 36,
   "metadata": {},
   "outputs": [
    {
     "name": "stdout",
     "output_type": "stream",
     "text": [
      "( 1 / 306 ) Filipino Restaurants in Wakefield, Bronx:0\n",
      "( 2 / 306 ) Filipino Restaurants in Co-op City, Bronx:0\n",
      "( 3 / 306 ) Filipino Restaurants in Eastchester, Bronx:0\n",
      "( 4 / 306 ) Filipino Restaurants in Fieldston, Bronx:0\n",
      "( 5 / 306 ) Filipino Restaurants in Riverdale, Bronx:0\n",
      "( 6 / 306 ) Filipino Restaurants in Kingsbridge, Bronx:0\n",
      "( 7 / 306 ) Filipino Restaurants in Marble Hill, Manhattan:0\n",
      "( 8 / 306 ) Filipino Restaurants in Woodlawn, Bronx:0\n",
      "( 9 / 306 ) Filipino Restaurants in Norwood, Bronx:0\n",
      "( 10 / 306 ) Filipino Restaurants in Williamsbridge, Bronx:0\n",
      "( 11 / 306 ) Filipino Restaurants in Baychester, Bronx:0\n",
      "( 12 / 306 ) Filipino Restaurants in Pelham Parkway, Bronx:0\n",
      "( 13 / 306 ) Filipino Restaurants in City Island, Bronx:0\n",
      "( 14 / 306 ) Filipino Restaurants in Bedford Park, Bronx:0\n",
      "( 15 / 306 ) Filipino Restaurants in University Heights, Bronx:0\n",
      "( 16 / 306 ) Filipino Restaurants in Morris Heights, Bronx:0\n",
      "( 17 / 306 ) Filipino Restaurants in Fordham, Bronx:0\n",
      "( 18 / 306 ) Filipino Restaurants in East Tremont, Bronx:0\n",
      "( 19 / 306 ) Filipino Restaurants in West Farms, Bronx:0\n",
      "( 20 / 306 ) Filipino Restaurants in High  Bridge, Bronx:0\n",
      "( 21 / 306 ) Filipino Restaurants in Melrose, Bronx:0\n",
      "( 22 / 306 ) Filipino Restaurants in Mott Haven, Bronx:0\n",
      "( 23 / 306 ) Filipino Restaurants in Port Morris, Bronx:0\n",
      "( 24 / 306 ) Filipino Restaurants in Longwood, Bronx:0\n",
      "( 25 / 306 ) Filipino Restaurants in Hunts Point, Bronx:0\n",
      "( 26 / 306 ) Filipino Restaurants in Morrisania, Bronx:0\n",
      "( 27 / 306 ) Filipino Restaurants in Soundview, Bronx:0\n",
      "( 28 / 306 ) Filipino Restaurants in Clason Point, Bronx:0\n",
      "( 29 / 306 ) Filipino Restaurants in Throgs Neck, Bronx:0\n",
      "( 30 / 306 ) Filipino Restaurants in Country Club, Bronx:0\n",
      "( 31 / 306 ) Filipino Restaurants in Parkchester, Bronx:0\n",
      "( 32 / 306 ) Filipino Restaurants in Westchester Square, Bronx:0\n",
      "( 33 / 306 ) Filipino Restaurants in Van Nest, Bronx:0\n",
      "( 34 / 306 ) Filipino Restaurants in Morris Park, Bronx:0\n",
      "( 35 / 306 ) Filipino Restaurants in Belmont, Bronx:0\n",
      "( 36 / 306 ) Filipino Restaurants in Spuyten Duyvil, Bronx:0\n",
      "( 37 / 306 ) Filipino Restaurants in North Riverdale, Bronx:0\n",
      "( 38 / 306 ) Filipino Restaurants in Pelham Bay, Bronx:0\n",
      "( 39 / 306 ) Filipino Restaurants in Schuylerville, Bronx:0\n",
      "( 40 / 306 ) Filipino Restaurants in Edgewater Park, Bronx:0\n",
      "( 41 / 306 ) Filipino Restaurants in Castle Hill, Bronx:0\n",
      "( 42 / 306 ) Filipino Restaurants in Olinville, Bronx:0\n",
      "( 43 / 306 ) Filipino Restaurants in Pelham Gardens, Bronx:0\n",
      "( 44 / 306 ) Filipino Restaurants in Concourse, Bronx:0\n",
      "( 45 / 306 ) Filipino Restaurants in Unionport, Bronx:0\n",
      "( 46 / 306 ) Filipino Restaurants in Edenwald, Bronx:0\n",
      "( 47 / 306 ) Filipino Restaurants in Bay Ridge, Brooklyn:0\n",
      "( 48 / 306 ) Filipino Restaurants in Bensonhurst, Brooklyn:0\n",
      "( 49 / 306 ) Filipino Restaurants in Sunset Park, Brooklyn:0\n",
      "( 50 / 306 ) Filipino Restaurants in Greenpoint, Brooklyn:0\n",
      "( 51 / 306 ) Filipino Restaurants in Gravesend, Brooklyn:0\n",
      "( 52 / 306 ) Filipino Restaurants in Brighton Beach, Brooklyn:0\n",
      "( 53 / 306 ) Filipino Restaurants in Sheepshead Bay, Brooklyn:0\n",
      "( 54 / 306 ) Filipino Restaurants in Manhattan Terrace, Brooklyn:0\n",
      "( 55 / 306 ) Filipino Restaurants in Flatbush, Brooklyn:1\n",
      "( 56 / 306 ) Filipino Restaurants in Crown Heights, Brooklyn:0\n",
      "( 57 / 306 ) Filipino Restaurants in East Flatbush, Brooklyn:0\n",
      "( 58 / 306 ) Filipino Restaurants in Kensington, Brooklyn:0\n",
      "( 59 / 306 ) Filipino Restaurants in Windsor Terrace, Brooklyn:0\n",
      "( 60 / 306 ) Filipino Restaurants in Prospect Heights, Brooklyn:0\n",
      "( 61 / 306 ) Filipino Restaurants in Brownsville, Brooklyn:0\n",
      "( 62 / 306 ) Filipino Restaurants in Williamsburg, Brooklyn:0\n",
      "( 63 / 306 ) Filipino Restaurants in Bushwick, Brooklyn:0\n",
      "( 64 / 306 ) Filipino Restaurants in Bedford Stuyvesant, Brooklyn:0\n",
      "( 65 / 306 ) Filipino Restaurants in Brooklyn Heights, Brooklyn:0\n",
      "( 66 / 306 ) Filipino Restaurants in Cobble Hill, Brooklyn:0\n",
      "( 67 / 306 ) Filipino Restaurants in Carroll Gardens, Brooklyn:1\n",
      "( 68 / 306 ) Filipino Restaurants in Red Hook, Brooklyn:0\n",
      "( 69 / 306 ) Filipino Restaurants in Gowanus, Brooklyn:0\n",
      "( 70 / 306 ) Filipino Restaurants in Fort Greene, Brooklyn:0\n",
      "( 71 / 306 ) Filipino Restaurants in Park Slope, Brooklyn:0\n",
      "( 72 / 306 ) Filipino Restaurants in Cypress Hills, Brooklyn:0\n",
      "( 73 / 306 ) Filipino Restaurants in East New York, Brooklyn:0\n",
      "( 74 / 306 ) Filipino Restaurants in Starrett City, Brooklyn:0\n",
      "( 75 / 306 ) Filipino Restaurants in Canarsie, Brooklyn:0\n",
      "( 76 / 306 ) Filipino Restaurants in Flatlands, Brooklyn:0\n",
      "( 77 / 306 ) Filipino Restaurants in Mill Island, Brooklyn:0\n",
      "( 78 / 306 ) Filipino Restaurants in Manhattan Beach, Brooklyn:0\n",
      "( 79 / 306 ) Filipino Restaurants in Coney Island, Brooklyn:0\n",
      "( 80 / 306 ) Filipino Restaurants in Bath Beach, Brooklyn:0\n",
      "( 81 / 306 ) Filipino Restaurants in Borough Park, Brooklyn:0\n",
      "( 82 / 306 ) Filipino Restaurants in Dyker Heights, Brooklyn:0\n",
      "( 83 / 306 ) Filipino Restaurants in Gerritsen Beach, Brooklyn:0\n",
      "( 84 / 306 ) Filipino Restaurants in Marine Park, Brooklyn:0\n",
      "( 85 / 306 ) Filipino Restaurants in Clinton Hill, Brooklyn:0\n",
      "( 86 / 306 ) Filipino Restaurants in Sea Gate, Brooklyn:0\n",
      "( 87 / 306 ) Filipino Restaurants in Downtown, Brooklyn:0\n",
      "( 88 / 306 ) Filipino Restaurants in Boerum Hill, Brooklyn:0\n",
      "( 89 / 306 ) Filipino Restaurants in Prospect Lefferts Gardens, Brooklyn:0\n",
      "( 90 / 306 ) Filipino Restaurants in Ocean Hill, Brooklyn:0\n",
      "( 91 / 306 ) Filipino Restaurants in City Line, Brooklyn:0\n",
      "( 92 / 306 ) Filipino Restaurants in Bergen Beach, Brooklyn:0\n",
      "( 93 / 306 ) Filipino Restaurants in Midwood, Brooklyn:0\n",
      "( 94 / 306 ) Filipino Restaurants in Prospect Park South, Brooklyn:1\n",
      "( 95 / 306 ) Filipino Restaurants in Georgetown, Brooklyn:0\n",
      "( 96 / 306 ) Filipino Restaurants in East Williamsburg, Brooklyn:0\n",
      "( 97 / 306 ) Filipino Restaurants in North Side, Brooklyn:0\n",
      "( 98 / 306 ) Filipino Restaurants in South Side, Brooklyn:0\n",
      "( 99 / 306 ) Filipino Restaurants in Ocean Parkway, Brooklyn:0\n",
      "( 100 / 306 ) Filipino Restaurants in Fort Hamilton, Brooklyn:0\n",
      "( 101 / 306 ) Filipino Restaurants in Chinatown, Manhattan:0\n",
      "( 102 / 306 ) Filipino Restaurants in Washington Heights, Manhattan:0\n",
      "( 103 / 306 ) Filipino Restaurants in Inwood, Manhattan:0\n",
      "( 104 / 306 ) Filipino Restaurants in Hamilton Heights, Manhattan:0\n",
      "( 105 / 306 ) Filipino Restaurants in Manhattanville, Manhattan:0\n",
      "( 106 / 306 ) Filipino Restaurants in Central Harlem, Manhattan:0\n",
      "( 107 / 306 ) Filipino Restaurants in East Harlem, Manhattan:0\n",
      "( 108 / 306 ) Filipino Restaurants in Upper East Side, Manhattan:0\n",
      "( 109 / 306 ) Filipino Restaurants in Yorkville, Manhattan:0\n",
      "( 110 / 306 ) Filipino Restaurants in Lenox Hill, Manhattan:0\n",
      "( 111 / 306 ) Filipino Restaurants in Roosevelt Island, Manhattan:0\n",
      "( 112 / 306 ) Filipino Restaurants in Upper West Side, Manhattan:0\n",
      "( 113 / 306 ) Filipino Restaurants in Lincoln Square, Manhattan:0\n",
      "( 114 / 306 ) Filipino Restaurants in Clinton, Manhattan:0\n",
      "( 115 / 306 ) Filipino Restaurants in Midtown, Manhattan:0\n",
      "( 116 / 306 ) Filipino Restaurants in Murray Hill, Manhattan:0\n",
      "( 117 / 306 ) Filipino Restaurants in Chelsea, Manhattan:0\n",
      "( 118 / 306 ) Filipino Restaurants in Greenwich Village, Manhattan:0\n",
      "( 119 / 306 ) Filipino Restaurants in East Village, Manhattan:0\n",
      "( 120 / 306 ) Filipino Restaurants in Lower East Side, Manhattan:1\n",
      "( 121 / 306 ) Filipino Restaurants in Tribeca, Manhattan:0\n",
      "( 122 / 306 ) Filipino Restaurants in Little Italy, Manhattan:0\n",
      "( 123 / 306 ) Filipino Restaurants in Soho, Manhattan:0\n",
      "( 124 / 306 ) Filipino Restaurants in West Village, Manhattan:0\n",
      "( 125 / 306 ) Filipino Restaurants in Manhattan Valley, Manhattan:0\n",
      "( 126 / 306 ) Filipino Restaurants in Morningside Heights, Manhattan:0\n",
      "( 127 / 306 ) Filipino Restaurants in Gramercy, Manhattan:0\n",
      "( 128 / 306 ) Filipino Restaurants in Battery Park City, Manhattan:0\n",
      "( 129 / 306 ) Filipino Restaurants in Financial District, Manhattan:0\n",
      "( 130 / 306 ) Filipino Restaurants in Astoria, Queens:0\n",
      "( 131 / 306 ) Filipino Restaurants in Woodside, Queens:3\n",
      "( 132 / 306 ) Filipino Restaurants in Jackson Heights, Queens:0\n",
      "( 133 / 306 ) Filipino Restaurants in Elmhurst, Queens:1\n",
      "( 134 / 306 ) Filipino Restaurants in Howard Beach, Queens:0\n",
      "( 135 / 306 ) Filipino Restaurants in Corona, Queens:0\n"
     ]
    },
    {
     "name": "stdout",
     "output_type": "stream",
     "text": [
      "( 136 / 306 ) Filipino Restaurants in Forest Hills, Queens:0\n",
      "( 137 / 306 ) Filipino Restaurants in Kew Gardens, Queens:0\n",
      "( 138 / 306 ) Filipino Restaurants in Richmond Hill, Queens:0\n",
      "( 139 / 306 ) Filipino Restaurants in Flushing, Queens:0\n",
      "( 140 / 306 ) Filipino Restaurants in Long Island City, Queens:0\n",
      "( 141 / 306 ) Filipino Restaurants in Sunnyside, Queens:1\n",
      "( 142 / 306 ) Filipino Restaurants in East Elmhurst, Queens:0\n",
      "( 143 / 306 ) Filipino Restaurants in Maspeth, Queens:0\n",
      "( 144 / 306 ) Filipino Restaurants in Ridgewood, Queens:0\n",
      "( 145 / 306 ) Filipino Restaurants in Glendale, Queens:0\n",
      "( 146 / 306 ) Filipino Restaurants in Rego Park, Queens:0\n",
      "( 147 / 306 ) Filipino Restaurants in Woodhaven, Queens:0\n",
      "( 148 / 306 ) Filipino Restaurants in Ozone Park, Queens:0\n",
      "( 149 / 306 ) Filipino Restaurants in South Ozone Park, Queens:0\n",
      "( 150 / 306 ) Filipino Restaurants in College Point, Queens:0\n",
      "( 151 / 306 ) Filipino Restaurants in Whitestone, Queens:0\n",
      "( 152 / 306 ) Filipino Restaurants in Bayside, Queens:0\n",
      "( 153 / 306 ) Filipino Restaurants in Auburndale, Queens:0\n",
      "( 154 / 306 ) Filipino Restaurants in Little Neck, Queens:0\n",
      "( 155 / 306 ) Filipino Restaurants in Douglaston, Queens:0\n",
      "( 156 / 306 ) Filipino Restaurants in Glen Oaks, Queens:0\n",
      "( 157 / 306 ) Filipino Restaurants in Bellerose, Queens:0\n",
      "( 158 / 306 ) Filipino Restaurants in Kew Gardens Hills, Queens:0\n",
      "( 159 / 306 ) Filipino Restaurants in Fresh Meadows, Queens:0\n",
      "( 160 / 306 ) Filipino Restaurants in Briarwood, Queens:1\n",
      "( 161 / 306 ) Filipino Restaurants in Jamaica Center, Queens:0\n",
      "( 162 / 306 ) Filipino Restaurants in Oakland Gardens, Queens:0\n",
      "( 163 / 306 ) Filipino Restaurants in Queens Village, Queens:0\n",
      "( 164 / 306 ) Filipino Restaurants in Hollis, Queens:0\n",
      "( 165 / 306 ) Filipino Restaurants in South Jamaica, Queens:0\n",
      "( 166 / 306 ) Filipino Restaurants in St. Albans, Queens:0\n",
      "( 167 / 306 ) Filipino Restaurants in Rochdale, Queens:0\n",
      "( 168 / 306 ) Filipino Restaurants in Springfield Gardens, Queens:0\n",
      "( 169 / 306 ) Filipino Restaurants in Cambria Heights, Queens:0\n",
      "( 170 / 306 ) Filipino Restaurants in Rosedale, Queens:0\n",
      "( 171 / 306 ) Filipino Restaurants in Far Rockaway, Queens:0\n",
      "( 172 / 306 ) Filipino Restaurants in Broad Channel, Queens:0\n",
      "( 173 / 306 ) Filipino Restaurants in Breezy Point, Queens:0\n",
      "( 174 / 306 ) Filipino Restaurants in Steinway, Queens:0\n",
      "( 175 / 306 ) Filipino Restaurants in Beechhurst, Queens:0\n",
      "( 176 / 306 ) Filipino Restaurants in Bay Terrace, Queens:0\n",
      "( 177 / 306 ) Filipino Restaurants in Edgemere, Queens:0\n",
      "( 178 / 306 ) Filipino Restaurants in Arverne, Queens:0\n",
      "( 179 / 306 ) Filipino Restaurants in Rockaway Beach, Queens:0\n",
      "( 180 / 306 ) Filipino Restaurants in Neponsit, Queens:0\n",
      "( 181 / 306 ) Filipino Restaurants in Murray Hill, Queens:0\n",
      "( 182 / 306 ) Filipino Restaurants in Floral Park, Queens:0\n",
      "( 183 / 306 ) Filipino Restaurants in Holliswood, Queens:0\n",
      "( 184 / 306 ) Filipino Restaurants in Jamaica Estates, Queens:0\n",
      "( 185 / 306 ) Filipino Restaurants in Queensboro Hill, Queens:0\n",
      "( 186 / 306 ) Filipino Restaurants in Hillcrest, Queens:0\n",
      "( 187 / 306 ) Filipino Restaurants in Ravenswood, Queens:0\n",
      "( 188 / 306 ) Filipino Restaurants in Lindenwood, Queens:0\n",
      "( 189 / 306 ) Filipino Restaurants in Laurelton, Queens:0\n",
      "( 190 / 306 ) Filipino Restaurants in Lefrak City, Queens:0\n",
      "( 191 / 306 ) Filipino Restaurants in Belle Harbor, Queens:0\n",
      "( 192 / 306 ) Filipino Restaurants in Rockaway Park, Queens:0\n",
      "( 193 / 306 ) Filipino Restaurants in Somerville, Queens:0\n",
      "( 194 / 306 ) Filipino Restaurants in Brookville, Queens:0\n",
      "( 195 / 306 ) Filipino Restaurants in Bellaire, Queens:0\n",
      "( 196 / 306 ) Filipino Restaurants in North Corona, Queens:0\n",
      "( 197 / 306 ) Filipino Restaurants in Forest Hills Gardens, Queens:0\n",
      "( 198 / 306 ) Filipino Restaurants in St. George, Staten Island:0\n",
      "( 199 / 306 ) Filipino Restaurants in New Brighton, Staten Island:0\n",
      "( 200 / 306 ) Filipino Restaurants in Stapleton, Staten Island:0\n",
      "( 201 / 306 ) Filipino Restaurants in Rosebank, Staten Island:1\n",
      "( 202 / 306 ) Filipino Restaurants in West Brighton, Staten Island:0\n",
      "( 203 / 306 ) Filipino Restaurants in Grymes Hill, Staten Island:0\n",
      "( 204 / 306 ) Filipino Restaurants in Todt Hill, Staten Island:0\n",
      "( 205 / 306 ) Filipino Restaurants in South Beach, Staten Island:0\n",
      "( 206 / 306 ) Filipino Restaurants in Port Richmond, Staten Island:0\n",
      "( 207 / 306 ) Filipino Restaurants in Mariner's Harbor, Staten Island:0\n",
      "( 208 / 306 ) Filipino Restaurants in Port Ivory, Staten Island:0\n",
      "( 209 / 306 ) Filipino Restaurants in Castleton Corners, Staten Island:0\n",
      "( 210 / 306 ) Filipino Restaurants in New Springville, Staten Island:0\n",
      "( 211 / 306 ) Filipino Restaurants in Travis, Staten Island:0\n",
      "( 212 / 306 ) Filipino Restaurants in New Dorp, Staten Island:0\n",
      "( 213 / 306 ) Filipino Restaurants in Oakwood, Staten Island:0\n",
      "( 214 / 306 ) Filipino Restaurants in Great Kills, Staten Island:0\n",
      "( 215 / 306 ) Filipino Restaurants in Eltingville, Staten Island:0\n",
      "( 216 / 306 ) Filipino Restaurants in Annadale, Staten Island:0\n",
      "( 217 / 306 ) Filipino Restaurants in Woodrow, Staten Island:0\n",
      "( 218 / 306 ) Filipino Restaurants in Tottenville, Staten Island:0\n",
      "( 219 / 306 ) Filipino Restaurants in Tompkinsville, Staten Island:0\n",
      "( 220 / 306 ) Filipino Restaurants in Silver Lake, Staten Island:0\n",
      "( 221 / 306 ) Filipino Restaurants in Sunnyside, Staten Island:0\n",
      "( 222 / 306 ) Filipino Restaurants in Ditmas Park, Brooklyn:1\n",
      "( 223 / 306 ) Filipino Restaurants in Wingate, Brooklyn:0\n",
      "( 224 / 306 ) Filipino Restaurants in Rugby, Brooklyn:0\n",
      "( 225 / 306 ) Filipino Restaurants in Park Hill, Staten Island:1\n",
      "( 226 / 306 ) Filipino Restaurants in Westerleigh, Staten Island:0\n",
      "( 227 / 306 ) Filipino Restaurants in Graniteville, Staten Island:0\n",
      "( 228 / 306 ) Filipino Restaurants in Arlington, Staten Island:0\n",
      "( 229 / 306 ) Filipino Restaurants in Arrochar, Staten Island:0\n",
      "( 230 / 306 ) Filipino Restaurants in Grasmere, Staten Island:0\n",
      "( 231 / 306 ) Filipino Restaurants in Old Town, Staten Island:0\n",
      "( 232 / 306 ) Filipino Restaurants in Dongan Hills, Staten Island:0\n",
      "( 233 / 306 ) Filipino Restaurants in Midland Beach, Staten Island:0\n",
      "( 234 / 306 ) Filipino Restaurants in Grant City, Staten Island:0\n",
      "( 235 / 306 ) Filipino Restaurants in New Dorp Beach, Staten Island:0\n",
      "( 236 / 306 ) Filipino Restaurants in Bay Terrace, Staten Island:0\n",
      "( 237 / 306 ) Filipino Restaurants in Huguenot, Staten Island:0\n",
      "( 238 / 306 ) Filipino Restaurants in Pleasant Plains, Staten Island:0\n",
      "( 239 / 306 ) Filipino Restaurants in Butler Manor, Staten Island:0\n",
      "( 240 / 306 ) Filipino Restaurants in Charleston, Staten Island:0\n",
      "( 241 / 306 ) Filipino Restaurants in Rossville, Staten Island:0\n",
      "( 242 / 306 ) Filipino Restaurants in Arden Heights, Staten Island:0\n",
      "( 243 / 306 ) Filipino Restaurants in Greenridge, Staten Island:0\n",
      "( 244 / 306 ) Filipino Restaurants in Heartland Village, Staten Island:0\n",
      "( 245 / 306 ) Filipino Restaurants in Chelsea, Staten Island:0\n",
      "( 246 / 306 ) Filipino Restaurants in Bloomfield, Staten Island:0\n",
      "( 247 / 306 ) Filipino Restaurants in Bulls Head, Staten Island:0\n",
      "( 248 / 306 ) Filipino Restaurants in Carnegie Hill, Manhattan:0\n",
      "( 249 / 306 ) Filipino Restaurants in Noho, Manhattan:1\n",
      "( 250 / 306 ) Filipino Restaurants in Civic Center, Manhattan:0\n",
      "( 251 / 306 ) Filipino Restaurants in Midtown South, Manhattan:0\n",
      "( 252 / 306 ) Filipino Restaurants in Richmond Town, Staten Island:0\n",
      "( 253 / 306 ) Filipino Restaurants in Shore Acres, Staten Island:1\n",
      "( 254 / 306 ) Filipino Restaurants in Clifton, Staten Island:1\n",
      "( 255 / 306 ) Filipino Restaurants in Concord, Staten Island:0\n",
      "( 256 / 306 ) Filipino Restaurants in Emerson Hill, Staten Island:0\n",
      "( 257 / 306 ) Filipino Restaurants in Randall Manor, Staten Island:0\n",
      "( 258 / 306 ) Filipino Restaurants in Howland Hook, Staten Island:0\n",
      "( 259 / 306 ) Filipino Restaurants in Elm Park, Staten Island:0\n",
      "( 260 / 306 ) Filipino Restaurants in Remsen Village, Brooklyn:0\n",
      "( 261 / 306 ) Filipino Restaurants in New Lots, Brooklyn:0\n",
      "( 262 / 306 ) Filipino Restaurants in Paerdegat Basin, Brooklyn:0\n",
      "( 263 / 306 ) Filipino Restaurants in Mill Basin, Brooklyn:0\n",
      "( 264 / 306 ) Filipino Restaurants in Jamaica Hills, Queens:1\n",
      "( 265 / 306 ) Filipino Restaurants in Utopia, Queens:0\n",
      "( 266 / 306 ) Filipino Restaurants in Pomonok, Queens:0\n"
     ]
    },
    {
     "name": "stdout",
     "output_type": "stream",
     "text": [
      "( 267 / 306 ) Filipino Restaurants in Astoria Heights, Queens:0\n",
      "( 268 / 306 ) Filipino Restaurants in Claremont Village, Bronx:0\n",
      "( 269 / 306 ) Filipino Restaurants in Concourse Village, Bronx:0\n",
      "( 270 / 306 ) Filipino Restaurants in Mount Eden, Bronx:0\n",
      "( 271 / 306 ) Filipino Restaurants in Mount Hope, Bronx:0\n",
      "( 272 / 306 ) Filipino Restaurants in Sutton Place, Manhattan:0\n",
      "( 273 / 306 ) Filipino Restaurants in Hunters Point, Queens:0\n",
      "( 274 / 306 ) Filipino Restaurants in Turtle Bay, Manhattan:0\n",
      "( 275 / 306 ) Filipino Restaurants in Tudor City, Manhattan:0\n",
      "( 276 / 306 ) Filipino Restaurants in Stuyvesant Town, Manhattan:2\n",
      "( 277 / 306 ) Filipino Restaurants in Flatiron, Manhattan:0\n",
      "( 278 / 306 ) Filipino Restaurants in Sunnyside Gardens, Queens:1\n",
      "( 279 / 306 ) Filipino Restaurants in Blissville, Queens:0\n",
      "( 280 / 306 ) Filipino Restaurants in Fulton Ferry, Brooklyn:0\n",
      "( 281 / 306 ) Filipino Restaurants in Vinegar Hill, Brooklyn:0\n",
      "( 282 / 306 ) Filipino Restaurants in Weeksville, Brooklyn:0\n",
      "( 283 / 306 ) Filipino Restaurants in Broadway Junction, Brooklyn:0\n",
      "( 284 / 306 ) Filipino Restaurants in Dumbo, Brooklyn:0\n",
      "( 285 / 306 ) Filipino Restaurants in Manor Heights, Staten Island:0\n",
      "( 286 / 306 ) Filipino Restaurants in Willowbrook, Staten Island:0\n",
      "( 287 / 306 ) Filipino Restaurants in Sandy Ground, Staten Island:0\n",
      "( 288 / 306 ) Filipino Restaurants in Egbertville, Staten Island:0\n",
      "( 289 / 306 ) Filipino Restaurants in Roxbury, Queens:0\n",
      "( 290 / 306 ) Filipino Restaurants in Homecrest, Brooklyn:0\n",
      "( 291 / 306 ) Filipino Restaurants in Middle Village, Queens:0\n",
      "( 292 / 306 ) Filipino Restaurants in Prince's Bay, Staten Island:0\n",
      "( 293 / 306 ) Filipino Restaurants in Lighthouse Hill, Staten Island:0\n",
      "( 294 / 306 ) Filipino Restaurants in Richmond Valley, Staten Island:0\n",
      "( 295 / 306 ) Filipino Restaurants in Malba, Queens:0\n",
      "( 296 / 306 ) Filipino Restaurants in Highland Park, Brooklyn:0\n",
      "( 297 / 306 ) Filipino Restaurants in Madison, Brooklyn:0\n",
      "( 298 / 306 ) Filipino Restaurants in Bronxdale, Bronx:0\n",
      "( 299 / 306 ) Filipino Restaurants in Allerton, Bronx:0\n",
      "( 300 / 306 ) Filipino Restaurants in Kingsbridge Heights, Bronx:0\n",
      "( 301 / 306 ) Filipino Restaurants in Erasmus, Brooklyn:0\n",
      "( 302 / 306 ) Filipino Restaurants in Hudson Yards, Manhattan:0\n",
      "( 303 / 306 ) Filipino Restaurants in Hammels, Queens:0\n",
      "( 304 / 306 ) Filipino Restaurants in Bayswater, Queens:0\n",
      "( 305 / 306 ) Filipino Restaurants in Queensbridge, Queens:0\n",
      "( 306 / 306 ) Filipino Restaurants in Fox Hills, Staten Island:0\n"
     ]
    }
   ],
   "source": [
    "# prepare neighborhood list that contains filip restaurant\n",
    "column_names=['Borough', 'Neighborhood', 'ID','Name']\n",
    "filip_rest_ny=pd.DataFrame(columns=column_names)\n",
    "count=1\n",
    "for row in new_york_data.values.tolist():\n",
    "    Borough, Neighborhood, Latitude, Longitude=row\n",
    "    venues = get_venues(Latitude,Longitude)\n",
    "    filip_resturants=venues[venues['Category']=='Filipino Restaurant']   \n",
    "    print('(',count,'/',len(new_york_data),')','Filipino Restaurants in '+Neighborhood+', '+Borough+':'+str(len(filip_resturants)))\n",
    "    for resturant_detail in filip_resturants.values.tolist():\n",
    "        id, name , category=resturant_detail\n",
    "        filip_rest_ny = filip_rest_ny.append({'Borough': Borough,\n",
    "                                                'Neighborhood': Neighborhood, \n",
    "                                                'ID': id,\n",
    "                                                'Name' : name\n",
    "                                               }, ignore_index=True)\n",
    "    count+=1"
   ]
  },
  {
   "cell_type": "code",
   "execution_count": 37,
   "metadata": {},
   "outputs": [
    {
     "data": {
      "text/plain": [
       "(20, 4)"
      ]
     },
     "execution_count": 37,
     "metadata": {},
     "output_type": "execute_result"
    }
   ],
   "source": [
    "filip_rest_ny.shape"
   ]
  },
  {
   "cell_type": "code",
   "execution_count": 40,
   "metadata": {},
   "outputs": [
    {
     "data": {
      "image/png": "[encoded data removed]",
      "text/plain": [
       "<Figure size 900x500 with 1 Axes>"
      ]
     },
     "metadata": {},
     "output_type": "display_data"
    }
   ],
   "source": [
    "from matplotlib import pyplot as plt\n",
    "plt.style.use('ggplot')\n",
    "\n",
    "plt.figure(figsize=(9,5), dpi = 100)\n",
    "# title\n",
    "plt.title('Number of Filipino Restaurants in NYC by Borough')\n",
    "#On x-axis\n",
    "plt.xlabel('Borough', fontsize = 15)\n",
    "#On y-axis\n",
    "plt.ylabel('No.of Filipino Restaurant', fontsize=15)\n",
    "#giving a bar plot\n",
    "filip_rest_ny.groupby('Borough')['ID'].count().plot(kind='bar')\n",
    "#legend\n",
    "plt.legend()\n",
    "#displays the plot\n",
    "plt.show()"
   ]
  },
  {
   "cell_type": "markdown",
   "metadata": {},
   "source": [
    "Queens has the highest number of Filipino Restaurant."
   ]
  },
  {
   "cell_type": "code",
   "execution_count": 42,
   "metadata": {},
   "outputs": [
    {
     "data": {
      "text/html": [
       "<div>\n",
       "<style scoped>\n",
       "    .dataframe tbody tr th:only-of-type {\n",
       "        vertical-align: middle;\n",
       "    }\n",
       "\n",
       "    .dataframe tbody tr th {\n",
       "        vertical-align: top;\n",
       "    }\n",
       "\n",
       "    .dataframe thead th {\n",
       "        text-align: right;\n",
       "    }\n",
       "</style>\n",
       "<table border=\"1\" class=\"dataframe\">\n",
       "  <thead>\n",
       "    <tr style=\"text-align: right;\">\n",
       "      <th></th>\n",
       "      <th>Borough</th>\n",
       "      <th>Neighborhood</th>\n",
       "      <th>ID</th>\n",
       "      <th>Name</th>\n",
       "    </tr>\n",
       "  </thead>\n",
       "  <tbody>\n",
       "    <tr>\n",
       "      <th>4</th>\n",
       "      <td>Queens</td>\n",
       "      <td>Woodside</td>\n",
       "      <td>4b5232def964a520456f27e3</td>\n",
       "      <td>Renee's Kitchenette &amp; Grille</td>\n",
       "    </tr>\n",
       "    <tr>\n",
       "      <th>5</th>\n",
       "      <td>Queens</td>\n",
       "      <td>Woodside</td>\n",
       "      <td>4a21ab5bf964a520277d1fe3</td>\n",
       "      <td>Ihawan</td>\n",
       "    </tr>\n",
       "    <tr>\n",
       "      <th>6</th>\n",
       "      <td>Queens</td>\n",
       "      <td>Woodside</td>\n",
       "      <td>53040a6e498ef035406f9cbf</td>\n",
       "      <td>House of Inasal</td>\n",
       "    </tr>\n",
       "  </tbody>\n",
       "</table>\n",
       "</div>"
      ],
      "text/plain": [
       "  Borough Neighborhood                        ID                          Name\n",
       "4  Queens     Woodside  4b5232def964a520456f27e3  Renee's Kitchenette & Grille\n",
       "5  Queens     Woodside  4a21ab5bf964a520277d1fe3                        Ihawan\n",
       "6  Queens     Woodside  53040a6e498ef035406f9cbf               House of Inasal"
      ]
     },
     "execution_count": 42,
     "metadata": {},
     "output_type": "execute_result"
    }
   ],
   "source": [
    "#Filipino Restaurants in Woodside\n",
    "filip_rest_ny[filip_rest_ny['Neighborhood']=='Woodside']"
   ]
  },
  {
   "cell_type": "markdown",
   "metadata": {},
   "source": [
    "Woodside has 3 Filipino restaurants in their neighborhood.(Wow! Inasal!)"
   ]
  },
  {
   "cell_type": "code",
   "execution_count": 44,
   "metadata": {},
   "outputs": [
    {
     "data": {
      "image/png": "[encoded data removed]",
      "text/plain": [
       "<Figure size 900x500 with 1 Axes>"
      ]
     },
     "metadata": {},
     "output_type": "display_data"
    }
   ],
   "source": [
    "from matplotlib import pyplot as plt\n",
    "plt.style.use('ggplot')\n",
    "\n",
    "plt.figure(figsize=(9,5), dpi = 100)\n",
    "# title\n",
    "plt.title('Number of Filipino Restaurants in NYC by Neighbourhood')\n",
    "#On x-axis\n",
    "plt.xlabel('Neighborhood', fontsize = 15)\n",
    "#On y-axis\n",
    "plt.ylabel('No.of Filipino Restaurants', fontsize=15)\n",
    "#giving a bar plot\n",
    "filip_rest_ny.groupby('Neighborhood')['ID'].count().nlargest(5).plot(kind='bar')\n",
    "#legend\n",
    "plt.legend()\n",
    "#displays the plot\n",
    "plt.show()"
   ]
  },
  {
   "cell_type": "markdown",
   "metadata": {},
   "source": [
    "Woodside has the most Filipino Restaurant with a total of 3."
   ]
  },
  {
   "cell_type": "code",
   "execution_count": 47,
   "metadata": {},
   "outputs": [
    {
     "name": "stdout",
     "output_type": "stream",
     "text": [
      "                         ID        Name  Likes  Rating  Tips\n",
      "0  4afa2432f964a520081722e3  Purple Yam    137     7.9    76\n",
      "( 1 / 20 ) processed\n",
      "                         ID            Name  Likes  Rating  Tips\n",
      "0  591e55677247502fb9514269  Fob Restaurant     55     7.8    28\n",
      "( 2 / 20 ) processed\n",
      "                         ID        Name  Likes  Rating  Tips\n",
      "0  4afa2432f964a520081722e3  Purple Yam    137     7.9    76\n",
      "( 3 / 20 ) processed\n",
      "                         ID          Name  Likes  Rating  Tips\n",
      "0  50588bc6526260483ab2860e  Pig and Khao   1081     9.1   301\n",
      "( 4 / 20 ) processed\n",
      "                         ID                          Name  Likes  Rating  Tips\n",
      "0  4b5232def964a520456f27e3  Renee's Kitchenette & Grille     60     8.6    20\n",
      "( 5 / 20 ) processed\n",
      "                         ID    Name  Likes  Rating  Tips\n",
      "0  4a21ab5bf964a520277d1fe3  Ihawan     94     8.4    41\n",
      "( 6 / 20 ) processed\n",
      "                         ID             Name  Likes  Rating  Tips\n",
      "0  53040a6e498ef035406f9cbf  House of Inasal     48     7.5    13\n",
      "( 7 / 20 ) processed\n",
      "                         ID  Name  Likes  Rating  Tips\n",
      "0  5ab83aff62420b3209673e48  Lahi     12     8.0     3\n",
      "( 8 / 20 ) processed\n",
      "                         ID                           Name  Likes  Rating  \\\n",
      "0  4aecab47f964a52026ca21e3  Tito Rad's Grill & Restaurant    183     8.9   \n",
      "\n",
      "   Tips  \n",
      "0    74  \n",
      "( 9 / 20 ) processed\n",
      "                         ID             Name  Likes  Rating  Tips\n",
      "0  4c22a0bc9085d13a53af86cc  Asian Food Ltd.     13     6.3     6\n",
      "( 10 / 20 ) processed\n",
      "                         ID            Name  Likes  Rating  Tips\n",
      "0  54c43136498ee8c2a685861e  Phil-Am Kusina     17     7.6     9\n",
      "( 11 / 20 ) processed\n",
      "                         ID        Name  Likes  Rating  Tips\n",
      "0  4afa2432f964a520081722e3  Purple Yam    137     7.9    76\n",
      "( 12 / 20 ) processed\n",
      "                         ID            Name  Likes  Rating  Tips\n",
      "0  54c43136498ee8c2a685861e  Phil-Am Kusina     17     7.6     9\n",
      "( 13 / 20 ) processed\n",
      "                         ID          Name  Likes  Rating  Tips\n",
      "0  50588bc6526260483ab2860e  Pig and Khao   1081     9.1   301\n",
      "( 14 / 20 ) processed\n",
      "                         ID            Name  Likes  Rating  Tips\n",
      "0  54c43136498ee8c2a685861e  Phil-Am Kusina     17     7.6     9\n",
      "( 15 / 20 ) processed\n",
      "                         ID            Name  Likes  Rating  Tips\n",
      "0  54c43136498ee8c2a685861e  Phil-Am Kusina     17     7.6     9\n",
      "( 16 / 20 ) processed\n",
      "                         ID             Name  Likes  Rating  Tips\n",
      "0  4c22a0bc9085d13a53af86cc  Asian Food Ltd.     13     6.3     6\n",
      "( 17 / 20 ) processed\n",
      "                         ID         Name  Likes  Rating  Tips\n",
      "0  5a73b1f49ef8ef531a1c08df  Mama Fina's     44     8.2    14\n",
      "( 18 / 20 ) processed\n",
      "                         ID                        Name  Likes  Rating  Tips\n",
      "0  503f293c19a9def238a153b3  Jeepney Filipino Gastropub    574     8.5   170\n",
      "( 19 / 20 ) processed\n",
      "                         ID                           Name  Likes  Rating  \\\n",
      "0  4aecab47f964a52026ca21e3  Tito Rad's Grill & Restaurant    183     8.9   \n",
      "\n",
      "   Tips  \n",
      "0    74  \n",
      "( 20 / 20 ) processed\n"
     ]
    }
   ],
   "source": [
    "# prepare neighborhood list that contains indian resturants\n",
    "column_names=['Borough', 'Neighborhood', 'ID','Name','Likes','Rating','Tips']\n",
    "filip_rest_stats_ny=pd.DataFrame(columns=column_names)\n",
    "count=1\n",
    "\n",
    "\n",
    "for row in filip_rest_ny.values.tolist():\n",
    "    Borough,Neighborhood,ID,Name=row\n",
    "\n",
    "    # prepare neighborhood list that contains indian resturants\n",
    "column_names=['Borough', 'Neighborhood', 'ID','Name','Likes','Rating','Tips']\n",
    "filip_rest_stats_ny=pd.DataFrame(columns=column_names)\n",
    "count=1\n",
    "\n",
    "\n",
    "for row in filip_rest_ny.values.tolist():\n",
    "    Borough,Neighborhood,ID,Name=row\n",
    "    try:\n",
    "        venue_details=get_venue_details(ID)\n",
    "        print(venue_details)\n",
    "        id,name,likes,rating,tips=venue_details.values.tolist()[0]\n",
    "    except (IndexError, KeyError) as e:\n",
    "        print('No data available for id=',ID)\n",
    "        # we will assign 0 value for these resturants as they may have been \n",
    "        #recently opened or details does not exist in FourSquare Database\n",
    "        id,name,likes,rating,tips=[0]*5\n",
    "    print('(',count,'/',len(filip_rest_ny),')','processed')\n",
    "    filip_rest_stats_ny = filip_rest_stats_ny.append({'Borough': Borough,\n",
    "                                                'Neighborhood': Neighborhood, \n",
    "                                                'ID': id,\n",
    "                                                'Name' : name,\n",
    "                                                'Likes' : likes,\n",
    "                                                'Rating' : rating,\n",
    "                                                'Tips' : tips\n",
    "                                               }, ignore_index=True)\n",
    "    count+=1"
   ]
  },
  {
   "cell_type": "code",
   "execution_count": 48,
   "metadata": {},
   "outputs": [
    {
     "data": {
      "text/html": [
       "<div>\n",
       "<style scoped>\n",
       "    .dataframe tbody tr th:only-of-type {\n",
       "        vertical-align: middle;\n",
       "    }\n",
       "\n",
       "    .dataframe tbody tr th {\n",
       "        vertical-align: top;\n",
       "    }\n",
       "\n",
       "    .dataframe thead th {\n",
       "        text-align: right;\n",
       "    }\n",
       "</style>\n",
       "<table border=\"1\" class=\"dataframe\">\n",
       "  <thead>\n",
       "    <tr style=\"text-align: right;\">\n",
       "      <th></th>\n",
       "      <th>Borough</th>\n",
       "      <th>Neighborhood</th>\n",
       "      <th>ID</th>\n",
       "      <th>Name</th>\n",
       "      <th>Likes</th>\n",
       "      <th>Rating</th>\n",
       "      <th>Tips</th>\n",
       "    </tr>\n",
       "  </thead>\n",
       "  <tbody>\n",
       "    <tr>\n",
       "      <th>0</th>\n",
       "      <td>Brooklyn</td>\n",
       "      <td>Flatbush</td>\n",
       "      <td>4afa2432f964a520081722e3</td>\n",
       "      <td>Purple Yam</td>\n",
       "      <td>137</td>\n",
       "      <td>7.9</td>\n",
       "      <td>76</td>\n",
       "    </tr>\n",
       "    <tr>\n",
       "      <th>1</th>\n",
       "      <td>Brooklyn</td>\n",
       "      <td>Carroll Gardens</td>\n",
       "      <td>591e55677247502fb9514269</td>\n",
       "      <td>Fob Restaurant</td>\n",
       "      <td>55</td>\n",
       "      <td>7.8</td>\n",
       "      <td>28</td>\n",
       "    </tr>\n",
       "    <tr>\n",
       "      <th>2</th>\n",
       "      <td>Brooklyn</td>\n",
       "      <td>Prospect Park South</td>\n",
       "      <td>4afa2432f964a520081722e3</td>\n",
       "      <td>Purple Yam</td>\n",
       "      <td>137</td>\n",
       "      <td>7.9</td>\n",
       "      <td>76</td>\n",
       "    </tr>\n",
       "    <tr>\n",
       "      <th>3</th>\n",
       "      <td>Manhattan</td>\n",
       "      <td>Lower East Side</td>\n",
       "      <td>50588bc6526260483ab2860e</td>\n",
       "      <td>Pig and Khao</td>\n",
       "      <td>1081</td>\n",
       "      <td>9.1</td>\n",
       "      <td>301</td>\n",
       "    </tr>\n",
       "    <tr>\n",
       "      <th>4</th>\n",
       "      <td>Queens</td>\n",
       "      <td>Woodside</td>\n",
       "      <td>4b5232def964a520456f27e3</td>\n",
       "      <td>Renee's Kitchenette &amp; Grille</td>\n",
       "      <td>60</td>\n",
       "      <td>8.6</td>\n",
       "      <td>20</td>\n",
       "    </tr>\n",
       "  </tbody>\n",
       "</table>\n",
       "</div>"
      ],
      "text/plain": [
       "     Borough         Neighborhood                        ID  \\\n",
       "0   Brooklyn             Flatbush  4afa2432f964a520081722e3   \n",
       "1   Brooklyn      Carroll Gardens  591e55677247502fb9514269   \n",
       "2   Brooklyn  Prospect Park South  4afa2432f964a520081722e3   \n",
       "3  Manhattan      Lower East Side  50588bc6526260483ab2860e   \n",
       "4     Queens             Woodside  4b5232def964a520456f27e3   \n",
       "\n",
       "                           Name Likes  Rating Tips  \n",
       "0                    Purple Yam   137     7.9   76  \n",
       "1                Fob Restaurant    55     7.8   28  \n",
       "2                    Purple Yam   137     7.9   76  \n",
       "3                  Pig and Khao  1081     9.1  301  \n",
       "4  Renee's Kitchenette & Grille    60     8.6   20  "
      ]
     },
     "execution_count": 48,
     "metadata": {},
     "output_type": "execute_result"
    }
   ],
   "source": [
    "filip_rest_stats_ny.head()"
   ]
  },
  {
   "cell_type": "code",
   "execution_count": 49,
   "metadata": {},
   "outputs": [
    {
     "data": {
      "text/plain": [
       "(20, 7)"
      ]
     },
     "execution_count": 49,
     "metadata": {},
     "output_type": "execute_result"
    }
   ],
   "source": [
    "filip_rest_stats_ny.shape"
   ]
  },
  {
   "cell_type": "code",
   "execution_count": 50,
   "metadata": {},
   "outputs": [
    {
     "data": {
      "text/plain": [
       "(20, 4)"
      ]
     },
     "execution_count": 50,
     "metadata": {},
     "output_type": "execute_result"
    }
   ],
   "source": [
    "filip_rest_ny.shape"
   ]
  },
  {
   "cell_type": "code",
   "execution_count": 52,
   "metadata": {},
   "outputs": [
    {
     "name": "stdout",
     "output_type": "stream",
     "text": [
      "File Saved!\n"
     ]
    }
   ],
   "source": [
    "filip_rest_stats_ny.to_csv('filip_rest_stats_ny.csv', index=False)\n",
    "print(\"File Saved!\")"
   ]
  },
  {
   "cell_type": "code",
   "execution_count": 53,
   "metadata": {},
   "outputs": [],
   "source": [
    "#Will use saved csv file status just incase we mess up anything\n",
    "filip_rest_stats_ny_csv=pd.read_csv('filip_rest_stats_ny.csv')"
   ]
  },
  {
   "cell_type": "code",
   "execution_count": 54,
   "metadata": {},
   "outputs": [
    {
     "data": {
      "text/plain": [
       "(20, 7)"
      ]
     },
     "execution_count": 54,
     "metadata": {},
     "output_type": "execute_result"
    }
   ],
   "source": [
    "filip_rest_stats_ny_csv.shape"
   ]
  },
  {
   "cell_type": "code",
   "execution_count": 55,
   "metadata": {},
   "outputs": [
    {
     "data": {
      "text/html": [
       "<div>\n",
       "<style scoped>\n",
       "    .dataframe tbody tr th:only-of-type {\n",
       "        vertical-align: middle;\n",
       "    }\n",
       "\n",
       "    .dataframe tbody tr th {\n",
       "        vertical-align: top;\n",
       "    }\n",
       "\n",
       "    .dataframe thead th {\n",
       "        text-align: right;\n",
       "    }\n",
       "</style>\n",
       "<table border=\"1\" class=\"dataframe\">\n",
       "  <thead>\n",
       "    <tr style=\"text-align: right;\">\n",
       "      <th></th>\n",
       "      <th>Borough</th>\n",
       "      <th>Neighborhood</th>\n",
       "      <th>ID</th>\n",
       "      <th>Name</th>\n",
       "      <th>Likes</th>\n",
       "      <th>Rating</th>\n",
       "      <th>Tips</th>\n",
       "    </tr>\n",
       "  </thead>\n",
       "  <tbody>\n",
       "    <tr>\n",
       "      <th>0</th>\n",
       "      <td>Brooklyn</td>\n",
       "      <td>Flatbush</td>\n",
       "      <td>4afa2432f964a520081722e3</td>\n",
       "      <td>Purple Yam</td>\n",
       "      <td>137</td>\n",
       "      <td>7.9</td>\n",
       "      <td>76</td>\n",
       "    </tr>\n",
       "    <tr>\n",
       "      <th>1</th>\n",
       "      <td>Brooklyn</td>\n",
       "      <td>Carroll Gardens</td>\n",
       "      <td>591e55677247502fb9514269</td>\n",
       "      <td>Fob Restaurant</td>\n",
       "      <td>55</td>\n",
       "      <td>7.8</td>\n",
       "      <td>28</td>\n",
       "    </tr>\n",
       "    <tr>\n",
       "      <th>2</th>\n",
       "      <td>Brooklyn</td>\n",
       "      <td>Prospect Park South</td>\n",
       "      <td>4afa2432f964a520081722e3</td>\n",
       "      <td>Purple Yam</td>\n",
       "      <td>137</td>\n",
       "      <td>7.9</td>\n",
       "      <td>76</td>\n",
       "    </tr>\n",
       "    <tr>\n",
       "      <th>3</th>\n",
       "      <td>Manhattan</td>\n",
       "      <td>Lower East Side</td>\n",
       "      <td>50588bc6526260483ab2860e</td>\n",
       "      <td>Pig and Khao</td>\n",
       "      <td>1081</td>\n",
       "      <td>9.1</td>\n",
       "      <td>301</td>\n",
       "    </tr>\n",
       "    <tr>\n",
       "      <th>4</th>\n",
       "      <td>Queens</td>\n",
       "      <td>Woodside</td>\n",
       "      <td>4b5232def964a520456f27e3</td>\n",
       "      <td>Renee's Kitchenette &amp; Grille</td>\n",
       "      <td>60</td>\n",
       "      <td>8.6</td>\n",
       "      <td>20</td>\n",
       "    </tr>\n",
       "  </tbody>\n",
       "</table>\n",
       "</div>"
      ],
      "text/plain": [
       "     Borough         Neighborhood                        ID  \\\n",
       "0   Brooklyn             Flatbush  4afa2432f964a520081722e3   \n",
       "1   Brooklyn      Carroll Gardens  591e55677247502fb9514269   \n",
       "2   Brooklyn  Prospect Park South  4afa2432f964a520081722e3   \n",
       "3  Manhattan      Lower East Side  50588bc6526260483ab2860e   \n",
       "4     Queens             Woodside  4b5232def964a520456f27e3   \n",
       "\n",
       "                           Name  Likes  Rating  Tips  \n",
       "0                    Purple Yam    137     7.9    76  \n",
       "1                Fob Restaurant     55     7.8    28  \n",
       "2                    Purple Yam    137     7.9    76  \n",
       "3                  Pig and Khao   1081     9.1   301  \n",
       "4  Renee's Kitchenette & Grille     60     8.6    20  "
      ]
     },
     "execution_count": 55,
     "metadata": {},
     "output_type": "execute_result"
    }
   ],
   "source": [
    "filip_rest_stats_ny_csv.head()"
   ]
  },
  {
   "cell_type": "code",
   "execution_count": 56,
   "metadata": {},
   "outputs": [
    {
     "name": "stdout",
     "output_type": "stream",
     "text": [
      "<class 'pandas.core.frame.DataFrame'>\n",
      "RangeIndex: 20 entries, 0 to 19\n",
      "Data columns (total 7 columns):\n",
      "Borough         20 non-null object\n",
      "Neighborhood    20 non-null object\n",
      "ID              20 non-null object\n",
      "Name            20 non-null object\n",
      "Likes           20 non-null object\n",
      "Rating          20 non-null float64\n",
      "Tips            20 non-null object\n",
      "dtypes: float64(1), object(6)\n",
      "memory usage: 1.2+ KB\n"
     ]
    }
   ],
   "source": [
    "filip_rest_stats_ny.info()"
   ]
  },
  {
   "cell_type": "markdown",
   "metadata": {},
   "source": [
    "Likes and Tips are default object, we will changed it to float64"
   ]
  },
  {
   "cell_type": "code",
   "execution_count": 58,
   "metadata": {},
   "outputs": [],
   "source": [
    "filip_rest_stats_ny['Likes']=filip_rest_stats_ny['Likes'].astype('float64')\n",
    "filip_rest_stats_ny['Tips']=filip_rest_stats_ny['Tips'].astype('float64')"
   ]
  },
  {
   "cell_type": "code",
   "execution_count": 60,
   "metadata": {},
   "outputs": [
    {
     "name": "stdout",
     "output_type": "stream",
     "text": [
      "<class 'pandas.core.frame.DataFrame'>\n",
      "RangeIndex: 20 entries, 0 to 19\n",
      "Data columns (total 7 columns):\n",
      "Borough         20 non-null object\n",
      "Neighborhood    20 non-null object\n",
      "ID              20 non-null object\n",
      "Name            20 non-null object\n",
      "Likes           20 non-null float64\n",
      "Rating          20 non-null float64\n",
      "Tips            20 non-null float64\n",
      "dtypes: float64(3), object(4)\n",
      "memory usage: 1.2+ KB\n",
      "Likes and Tips is now float!\n"
     ]
    }
   ],
   "source": [
    "filip_rest_stats_ny.info()\n",
    "print(\"Likes and Tips is now float!\")"
   ]
  },
  {
   "cell_type": "code",
   "execution_count": 64,
   "metadata": {},
   "outputs": [
    {
     "data": {
      "text/plain": [
       "Borough                        Manhattan\n",
       "Neighborhood             Lower East Side\n",
       "ID              50588bc6526260483ab2860e\n",
       "Name                        Pig and Khao\n",
       "Likes                               1081\n",
       "Rating                               9.1\n",
       "Tips                                 301\n",
       "Name: 3, dtype: object"
      ]
     },
     "execution_count": 64,
     "metadata": {},
     "output_type": "execute_result"
    }
   ],
   "source": [
    "# Restaurants with maximum Likes\n",
    "filip_rest_stats_ny.iloc[filip_rest_stats_ny['Likes'].idxmax()]\n",
    "    "
   ]
  },
  {
   "cell_type": "code",
   "execution_count": 66,
   "metadata": {},
   "outputs": [
    {
     "data": {
      "text/plain": [
       "Borough                        Manhattan\n",
       "Neighborhood             Lower East Side\n",
       "ID              50588bc6526260483ab2860e\n",
       "Name                        Pig and Khao\n",
       "Likes                               1081\n",
       "Rating                               9.1\n",
       "Tips                                 301\n",
       "Name: 3, dtype: object"
      ]
     },
     "execution_count": 66,
     "metadata": {},
     "output_type": "execute_result"
    }
   ],
   "source": [
    "# Restaurants with Highest Rating\n",
    "filip_rest_stats_ny.iloc[filip_rest_stats_ny['Rating'].idxmax()]"
   ]
  },
  {
   "cell_type": "code",
   "execution_count": 67,
   "metadata": {},
   "outputs": [
    {
     "data": {
      "text/plain": [
       "Borough                        Manhattan\n",
       "Neighborhood             Lower East Side\n",
       "ID              50588bc6526260483ab2860e\n",
       "Name                        Pig and Khao\n",
       "Likes                               1081\n",
       "Rating                               9.1\n",
       "Tips                                 301\n",
       "Name: 3, dtype: object"
      ]
     },
     "execution_count": 67,
     "metadata": {},
     "output_type": "execute_result"
    }
   ],
   "source": [
    "# Restaurants with maximum Tips\n",
    "filip_rest_stats_ny.iloc[filip_rest_stats_ny['Tips'].idxmax()]"
   ]
  },
  {
   "cell_type": "code",
   "execution_count": 68,
   "metadata": {},
   "outputs": [],
   "source": [
    "ny_neighborhood_stats=filip_rest_stats_ny.groupby('Neighborhood',as_index=False).mean()[['Neighborhood','Rating']]\n",
    "ny_neighborhood_stats.columns=['Neighborhood','Average Rating']"
   ]
  },
  {
   "cell_type": "code",
   "execution_count": 69,
   "metadata": {},
   "outputs": [
    {
     "data": {
      "text/html": [
       "<div>\n",
       "<style scoped>\n",
       "    .dataframe tbody tr th:only-of-type {\n",
       "        vertical-align: middle;\n",
       "    }\n",
       "\n",
       "    .dataframe tbody tr th {\n",
       "        vertical-align: top;\n",
       "    }\n",
       "\n",
       "    .dataframe thead th {\n",
       "        text-align: right;\n",
       "    }\n",
       "</style>\n",
       "<table border=\"1\" class=\"dataframe\">\n",
       "  <thead>\n",
       "    <tr style=\"text-align: right;\">\n",
       "      <th></th>\n",
       "      <th>Neighborhood</th>\n",
       "      <th>Average Rating</th>\n",
       "    </tr>\n",
       "  </thead>\n",
       "  <tbody>\n",
       "    <tr>\n",
       "      <th>8</th>\n",
       "      <td>Noho</td>\n",
       "      <td>9.100000</td>\n",
       "    </tr>\n",
       "    <tr>\n",
       "      <th>7</th>\n",
       "      <td>Lower East Side</td>\n",
       "      <td>9.100000</td>\n",
       "    </tr>\n",
       "    <tr>\n",
       "      <th>15</th>\n",
       "      <td>Sunnyside Gardens</td>\n",
       "      <td>8.900000</td>\n",
       "    </tr>\n",
       "    <tr>\n",
       "      <th>14</th>\n",
       "      <td>Sunnyside</td>\n",
       "      <td>8.900000</td>\n",
       "    </tr>\n",
       "    <tr>\n",
       "      <th>13</th>\n",
       "      <td>Stuyvesant Town</td>\n",
       "      <td>8.350000</td>\n",
       "    </tr>\n",
       "    <tr>\n",
       "      <th>16</th>\n",
       "      <td>Woodside</td>\n",
       "      <td>8.166667</td>\n",
       "    </tr>\n",
       "    <tr>\n",
       "      <th>4</th>\n",
       "      <td>Elmhurst</td>\n",
       "      <td>8.000000</td>\n",
       "    </tr>\n",
       "    <tr>\n",
       "      <th>5</th>\n",
       "      <td>Flatbush</td>\n",
       "      <td>7.900000</td>\n",
       "    </tr>\n",
       "    <tr>\n",
       "      <th>10</th>\n",
       "      <td>Prospect Park South</td>\n",
       "      <td>7.900000</td>\n",
       "    </tr>\n",
       "    <tr>\n",
       "      <th>3</th>\n",
       "      <td>Ditmas Park</td>\n",
       "      <td>7.900000</td>\n",
       "    </tr>\n",
       "  </tbody>\n",
       "</table>\n",
       "</div>"
      ],
      "text/plain": [
       "           Neighborhood  Average Rating\n",
       "8                  Noho        9.100000\n",
       "7       Lower East Side        9.100000\n",
       "15    Sunnyside Gardens        8.900000\n",
       "14            Sunnyside        8.900000\n",
       "13      Stuyvesant Town        8.350000\n",
       "16             Woodside        8.166667\n",
       "4              Elmhurst        8.000000\n",
       "5              Flatbush        7.900000\n",
       "10  Prospect Park South        7.900000\n",
       "3           Ditmas Park        7.900000"
      ]
     },
     "execution_count": 69,
     "metadata": {},
     "output_type": "execute_result"
    }
   ],
   "source": [
    "ny_neighborhood_stats.sort_values(['Average Rating'],ascending=False).head(10)"
   ]
  },
  {
   "cell_type": "code",
   "execution_count": null,
   "metadata": {},
   "outputs": [],
   "source": [
    "Noho and Lower East Side are the top rated Neighborhoods."
   ]
  },
  {
   "cell_type": "code",
   "execution_count": 70,
   "metadata": {},
   "outputs": [],
   "source": [
    "ny_borough_stats=filip_rest_stats_ny.groupby('Borough',as_index=False).mean()[['Borough','Rating']]\n",
    "ny_borough_stats.columns=['Borough','Average Rating']"
   ]
  },
  {
   "cell_type": "code",
   "execution_count": 71,
   "metadata": {},
   "outputs": [
    {
     "data": {
      "text/html": [
       "<div>\n",
       "<style scoped>\n",
       "    .dataframe tbody tr th:only-of-type {\n",
       "        vertical-align: middle;\n",
       "    }\n",
       "\n",
       "    .dataframe tbody tr th {\n",
       "        vertical-align: top;\n",
       "    }\n",
       "\n",
       "    .dataframe thead th {\n",
       "        text-align: right;\n",
       "    }\n",
       "</style>\n",
       "<table border=\"1\" class=\"dataframe\">\n",
       "  <thead>\n",
       "    <tr style=\"text-align: right;\">\n",
       "      <th></th>\n",
       "      <th>Borough</th>\n",
       "      <th>Average Rating</th>\n",
       "    </tr>\n",
       "  </thead>\n",
       "  <tbody>\n",
       "    <tr>\n",
       "      <th>1</th>\n",
       "      <td>Manhattan</td>\n",
       "      <td>8.7250</td>\n",
       "    </tr>\n",
       "    <tr>\n",
       "      <th>0</th>\n",
       "      <td>Brooklyn</td>\n",
       "      <td>7.8750</td>\n",
       "    </tr>\n",
       "    <tr>\n",
       "      <th>2</th>\n",
       "      <td>Queens</td>\n",
       "      <td>7.8625</td>\n",
       "    </tr>\n",
       "    <tr>\n",
       "      <th>3</th>\n",
       "      <td>Staten Island</td>\n",
       "      <td>7.6000</td>\n",
       "    </tr>\n",
       "  </tbody>\n",
       "</table>\n",
       "</div>"
      ],
      "text/plain": [
       "         Borough  Average Rating\n",
       "1      Manhattan          8.7250\n",
       "0       Brooklyn          7.8750\n",
       "2         Queens          7.8625\n",
       "3  Staten Island          7.6000"
      ]
     },
     "execution_count": 71,
     "metadata": {},
     "output_type": "execute_result"
    }
   ],
   "source": [
    "ny_borough_stats.sort_values(['Average Rating'],ascending=False).head()"
   ]
  },
  {
   "cell_type": "markdown",
   "metadata": {},
   "source": [
    "Manhattan is the Top Rated Borough in the New York."
   ]
  },
  {
   "cell_type": "code",
   "execution_count": 72,
   "metadata": {},
   "outputs": [
    {
     "data": {
      "image/png": "[encoded data removed]",
      "text/plain": [
       "<Figure size 900x500 with 1 Axes>"
      ]
     },
     "metadata": {},
     "output_type": "display_data"
    }
   ],
   "source": [
    "plt.figure(figsize=(9,5), dpi = 100)\n",
    "# title\n",
    "plt.title('Average rating of Filipino Restaurant in each  NYC Borough')\n",
    "#On x-axis\n",
    "plt.xlabel('Borough', fontsize = 15)\n",
    "#On y-axis\n",
    "plt.ylabel('Average Rating', fontsize=15)\n",
    "#giving a bar plot\n",
    "filip_rest_stats_ny.groupby('Borough').mean()['Rating'].plot(kind='bar')\n",
    "#legend\n",
    "plt.legend()\n",
    "#displays the plot\n",
    "plt.show()"
   ]
  },
  {
   "cell_type": "markdown",
   "metadata": {},
   "source": [
    "Manhattan has the average top rating Filipino Retaurant in NYC Borough."
   ]
  },
  {
   "cell_type": "markdown",
   "metadata": {},
   "source": [
    "Let us visualized in the map, All the neighborhoods with average rating greater or equal 7.0."
   ]
  },
  {
   "cell_type": "code",
   "execution_count": 75,
   "metadata": {},
   "outputs": [],
   "source": [
    "ny_neighborhood_stats=ny_neighborhood_stats[ny_neighborhood_stats['Average Rating']>=7.0]"
   ]
  },
  {
   "cell_type": "code",
   "execution_count": 76,
   "metadata": {},
   "outputs": [
    {
     "data": {
      "text/html": [
       "<div>\n",
       "<style scoped>\n",
       "    .dataframe tbody tr th:only-of-type {\n",
       "        vertical-align: middle;\n",
       "    }\n",
       "\n",
       "    .dataframe tbody tr th {\n",
       "        vertical-align: top;\n",
       "    }\n",
       "\n",
       "    .dataframe thead th {\n",
       "        text-align: right;\n",
       "    }\n",
       "</style>\n",
       "<table border=\"1\" class=\"dataframe\">\n",
       "  <thead>\n",
       "    <tr style=\"text-align: right;\">\n",
       "      <th></th>\n",
       "      <th>Neighborhood</th>\n",
       "      <th>Average Rating</th>\n",
       "    </tr>\n",
       "  </thead>\n",
       "  <tbody>\n",
       "    <tr>\n",
       "      <th>4</th>\n",
       "      <td>Elmhurst</td>\n",
       "      <td>8.000000</td>\n",
       "    </tr>\n",
       "    <tr>\n",
       "      <th>7</th>\n",
       "      <td>Lower East Side</td>\n",
       "      <td>9.100000</td>\n",
       "    </tr>\n",
       "    <tr>\n",
       "      <th>8</th>\n",
       "      <td>Noho</td>\n",
       "      <td>9.100000</td>\n",
       "    </tr>\n",
       "    <tr>\n",
       "      <th>13</th>\n",
       "      <td>Stuyvesant Town</td>\n",
       "      <td>8.350000</td>\n",
       "    </tr>\n",
       "    <tr>\n",
       "      <th>14</th>\n",
       "      <td>Sunnyside</td>\n",
       "      <td>8.900000</td>\n",
       "    </tr>\n",
       "    <tr>\n",
       "      <th>15</th>\n",
       "      <td>Sunnyside Gardens</td>\n",
       "      <td>8.900000</td>\n",
       "    </tr>\n",
       "    <tr>\n",
       "      <th>16</th>\n",
       "      <td>Woodside</td>\n",
       "      <td>8.166667</td>\n",
       "    </tr>\n",
       "  </tbody>\n",
       "</table>\n",
       "</div>"
      ],
      "text/plain": [
       "         Neighborhood  Average Rating\n",
       "4            Elmhurst        8.000000\n",
       "7     Lower East Side        9.100000\n",
       "8                Noho        9.100000\n",
       "13    Stuyvesant Town        8.350000\n",
       "14          Sunnyside        8.900000\n",
       "15  Sunnyside Gardens        8.900000\n",
       "16           Woodside        8.166667"
      ]
     },
     "execution_count": 76,
     "metadata": {},
     "output_type": "execute_result"
    }
   ],
   "source": [
    "ny_neighborhood_stats"
   ]
  },
  {
   "cell_type": "code",
   "execution_count": 77,
   "metadata": {},
   "outputs": [],
   "source": [
    "ny_neighborhood_stats=pd.merge(ny_neighborhood_stats,new_york_data, on='Neighborhood')"
   ]
  },
  {
   "cell_type": "code",
   "execution_count": 78,
   "metadata": {},
   "outputs": [],
   "source": [
    "\n",
    "ny_neighborhood_stats=ny_neighborhood_stats[['Borough','Neighborhood','Latitude','Longitude','Average Rating']]"
   ]
  },
  {
   "cell_type": "code",
   "execution_count": 79,
   "metadata": {},
   "outputs": [
    {
     "data": {
      "text/html": [
       "<div>\n",
       "<style scoped>\n",
       "    .dataframe tbody tr th:only-of-type {\n",
       "        vertical-align: middle;\n",
       "    }\n",
       "\n",
       "    .dataframe tbody tr th {\n",
       "        vertical-align: top;\n",
       "    }\n",
       "\n",
       "    .dataframe thead th {\n",
       "        text-align: right;\n",
       "    }\n",
       "</style>\n",
       "<table border=\"1\" class=\"dataframe\">\n",
       "  <thead>\n",
       "    <tr style=\"text-align: right;\">\n",
       "      <th></th>\n",
       "      <th>Borough</th>\n",
       "      <th>Neighborhood</th>\n",
       "      <th>Latitude</th>\n",
       "      <th>Longitude</th>\n",
       "      <th>Average Rating</th>\n",
       "    </tr>\n",
       "  </thead>\n",
       "  <tbody>\n",
       "    <tr>\n",
       "      <th>1</th>\n",
       "      <td>Manhattan</td>\n",
       "      <td>Lower East Side</td>\n",
       "      <td>40.717807</td>\n",
       "      <td>-73.980890</td>\n",
       "      <td>9.100000</td>\n",
       "    </tr>\n",
       "    <tr>\n",
       "      <th>2</th>\n",
       "      <td>Manhattan</td>\n",
       "      <td>Noho</td>\n",
       "      <td>40.723259</td>\n",
       "      <td>-73.988434</td>\n",
       "      <td>9.100000</td>\n",
       "    </tr>\n",
       "    <tr>\n",
       "      <th>4</th>\n",
       "      <td>Queens</td>\n",
       "      <td>Sunnyside</td>\n",
       "      <td>40.740176</td>\n",
       "      <td>-73.926916</td>\n",
       "      <td>8.900000</td>\n",
       "    </tr>\n",
       "    <tr>\n",
       "      <th>5</th>\n",
       "      <td>Staten Island</td>\n",
       "      <td>Sunnyside</td>\n",
       "      <td>40.612760</td>\n",
       "      <td>-74.097126</td>\n",
       "      <td>8.900000</td>\n",
       "    </tr>\n",
       "    <tr>\n",
       "      <th>6</th>\n",
       "      <td>Queens</td>\n",
       "      <td>Sunnyside Gardens</td>\n",
       "      <td>40.745652</td>\n",
       "      <td>-73.918193</td>\n",
       "      <td>8.900000</td>\n",
       "    </tr>\n",
       "    <tr>\n",
       "      <th>3</th>\n",
       "      <td>Manhattan</td>\n",
       "      <td>Stuyvesant Town</td>\n",
       "      <td>40.731000</td>\n",
       "      <td>-73.974052</td>\n",
       "      <td>8.350000</td>\n",
       "    </tr>\n",
       "    <tr>\n",
       "      <th>7</th>\n",
       "      <td>Queens</td>\n",
       "      <td>Woodside</td>\n",
       "      <td>40.746349</td>\n",
       "      <td>-73.901842</td>\n",
       "      <td>8.166667</td>\n",
       "    </tr>\n",
       "    <tr>\n",
       "      <th>0</th>\n",
       "      <td>Queens</td>\n",
       "      <td>Elmhurst</td>\n",
       "      <td>40.744049</td>\n",
       "      <td>-73.881656</td>\n",
       "      <td>8.000000</td>\n",
       "    </tr>\n",
       "  </tbody>\n",
       "</table>\n",
       "</div>"
      ],
      "text/plain": [
       "         Borough       Neighborhood   Latitude  Longitude  Average Rating\n",
       "1      Manhattan    Lower East Side  40.717807 -73.980890        9.100000\n",
       "2      Manhattan               Noho  40.723259 -73.988434        9.100000\n",
       "4         Queens          Sunnyside  40.740176 -73.926916        8.900000\n",
       "5  Staten Island          Sunnyside  40.612760 -74.097126        8.900000\n",
       "6         Queens  Sunnyside Gardens  40.745652 -73.918193        8.900000\n",
       "3      Manhattan    Stuyvesant Town  40.731000 -73.974052        8.350000\n",
       "7         Queens           Woodside  40.746349 -73.901842        8.166667\n",
       "0         Queens           Elmhurst  40.744049 -73.881656        8.000000"
      ]
     },
     "execution_count": 79,
     "metadata": {},
     "output_type": "execute_result"
    }
   ],
   "source": [
    "ny_neighborhood_stats.sort_values(['Average Rating'],ascending=False).head(10)"
   ]
  },
  {
   "cell_type": "code",
   "execution_count": 80,
   "metadata": {},
   "outputs": [],
   "source": [
    "# create map and display it\n",
    "ny_map = folium.Map(location=(40.693943, -73.985880), zoom_start=12)"
   ]
  },
  {
   "cell_type": "code",
   "execution_count": 81,
   "metadata": {},
   "outputs": [],
   "source": [
    "# instantiate a feature group for the incidents in the dataframe\n",
    "incidents = folium.map.FeatureGroup()\n",
    "\n",
    "# loop through the 100 crimes and add each to the incidents feature group\n",
    "for lat, lng, in ny_neighborhood_stats[['Latitude','Longitude']].values:\n",
    "    incidents.add_child(\n",
    "        folium.CircleMarker(\n",
    "            [lat, lng],\n",
    "            radius=10, # define how big you want the circle markers to be\n",
    "            color='yellow',\n",
    "            fill=True,\n",
    "            fill_color='blue',\n",
    "            fill_opacity=0.6\n",
    "        )\n",
    "    )"
   ]
  },
  {
   "cell_type": "code",
   "execution_count": 82,
   "metadata": {},
   "outputs": [],
   "source": [
    "ny_neighborhood_stats['Label']=ny_neighborhood_stats['Neighborhood']+', '+ny_neighborhood_stats['Borough']+'('+ny_neighborhood_stats['Average Rating'].map(str)+')'"
   ]
  },
  {
   "cell_type": "markdown",
   "metadata": {},
   "source": [
    "### Best neighborhoods in New York that has highest average rating for Filipino Restaurants"
   ]
  },
  {
   "cell_type": "code",
   "execution_count": 84,
   "metadata": {},
   "outputs": [
    {
     "data": {
      "text/html": [
       "<div style=\"width:100%;\"><div style=\"position:relative;width:100%;height:0;padding-bottom:60%;\"><iframe src=\"about:blank\" style=\"position:absolute;width:100%;height:100%;left:0;top:0;border:none !important;\" data-html=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 onload=\"this.contentDocument.open();this.contentDocument.write(atob(this.getAttribute('data-html')));this.contentDocument.close();\" allowfullscreen webkitallowfullscreen mozallowfullscreen></iframe></div></div>"
      ],
      "text/plain": [
       "<folium.folium.Map at 0x1d478d06f28>"
      ]
     },
     "execution_count": 84,
     "metadata": {},
     "output_type": "execute_result"
    }
   ],
   "source": [
    "# add pop-up text to each marker on the map\n",
    "for lat, lng, label in ny_neighborhood_stats[['Latitude','Longitude','Label']].values:\n",
    "    folium.Marker([lat, lng], popup=label).add_to(ny_map)        \n",
    "# add incidents to map\n",
    "ny_map.add_child(incidents)"
   ]
  },
  {
   "cell_type": "markdown",
   "metadata": {},
   "source": [
    "### Findings\n",
    "\n",
    "1. Lower East Side, Noho, Stuyvesant in Manhattan are some of the best neighborhoods for Filipino cuisine.\n",
    "2. Staten Island Neighborhood has the lowest rated Indian Restaurants in NYC.\n",
    "3. Manhattan Borough is the best place to stay if you prefer Indian Cuisine.\n",
    "4. Bronx Borough does not have Filipino Restaurant at the moment.\n",
    "\n",
    "### Conclusion and  Recommendation\n",
    "\n",
    "#### 1. Lower East Sice or Noho in Manhattan would be the best choice to start a restaurant given that;\n",
    "\n",
    "####     * -- it is the third most populous urban area in New York City (NYC).\n",
    "####     * --it has a population density of 27,826 people per square km, and confirmed highest of any borough in the United States.\n",
    "####     * --it has a good economy (gdp_per_capita).\n",
    "####     * --it has some of the top rated Filipino restaurants located in that area\n",
    "####     * --it has the second highest Asian ethnic minority population in NYC.\n",
    "\n",
    "#### 2. There are very few Filipino Restaurants in Manhattan and the competition is very weak therefore, this the best time to start a Filipino Restaurant in the neighboorhood of Manhattan."
   ]
  },
  {
   "cell_type": "code",
   "execution_count": null,
   "metadata": {},
   "outputs": [],
   "source": []
  }
 ],
 "metadata": {
  "kernelspec": {
   "display_name": "Python 3",
   "language": "python",
   "name": "python3"
  },
  "language_info": {
   "codemirror_mode": {
    "name": "ipython",
    "version": 3
   },
   "file_extension": ".py",
   "mimetype": "text/x-python",
   "name": "python",
   "nbconvert_exporter": "python",
   "pygments_lexer": "ipython3",
   "version": "3.7.3"
  }
 },
 "nbformat": 4,
 "nbformat_minor": 2
}
